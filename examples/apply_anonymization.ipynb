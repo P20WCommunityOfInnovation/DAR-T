{
 "cells": [
  {
   "cell_type": "code",
   "execution_count": null,
   "id": "41ba4f39",
   "metadata": {},
   "outputs": [],
   "source": [
    "import pandas as pd\n",
    "import sys"
   ]
  },
  {
   "cell_type": "code",
   "execution_count": null,
   "id": "abdb66f3",
   "metadata": {},
   "outputs": [],
   "source": [
    "sys.path.append('..\\\\packages')"
   ]
  },
  {
   "cell_type": "code",
   "execution_count": null,
   "id": "ee8cabc5",
   "metadata": {},
   "outputs": [],
   "source": [
    "from suppression_check import DataAnonymizer"
   ]
  },
  {
   "cell_type": "markdown",
   "id": "d6f9bff4",
   "metadata": {},
   "source": [
    "# Corrected relative path to the CSV file"
   ]
  },
  {
   "cell_type": "code",
   "execution_count": null,
   "id": "21807461",
   "metadata": {},
   "outputs": [],
   "source": [
    "file_path = r'..\\data\\GraduationELLGender.csv'"
   ]
  },
  {
   "cell_type": "markdown",
   "id": "38203d9b",
   "metadata": {},
   "source": [
    "# Load the CSV file into a DataFrame"
   ]
  },
  {
   "cell_type": "code",
   "execution_count": null,
   "id": "b384c86a",
   "metadata": {},
   "outputs": [],
   "source": [
    "df_data = pd.read_csv(file_path)\n",
    "display(df_data)"
   ]
  },
  {
   "cell_type": "markdown",
   "id": "087c599b",
   "metadata": {},
   "source": [
    "# Instantiate the anonymizer"
   ]
  },
  {
   "cell_type": "code",
   "execution_count": null,
   "id": "452c208d",
   "metadata": {},
   "outputs": [],
   "source": [
    "organizations = ['ParentEntity','ChildEntity']\n",
    "sensitive = ['Subgroup1', 'Subgroup2']\n",
    "anonymizer = DataAnonymizer(df_data, organization_columns=organizations, sensitive_columns=sensitive, frequency='GraduationCount')"
   ]
  },
  {
   "cell_type": "markdown",
   "id": "d9e33a44",
   "metadata": {},
   "source": [
    "# Apply Anonymization"
   ]
  },
  {
   "cell_type": "code",
   "execution_count": null,
   "id": "7cbb3c52",
   "metadata": {},
   "outputs": [],
   "source": [
    "df_redact_threshold = anonymizer.apply_anonymization()\n",
    "display(df_redact_threshold)"
   ]
  },
  {
   "cell_type": "code",
   "execution_count": null,
   "id": "10c83489",
   "metadata": {},
   "outputs": [],
   "source": []
  },
  {
   "cell_type": "code",
   "execution_count": null,
   "id": "5c0483a5",
   "metadata": {},
   "outputs": [],
   "source": []
  }
 ],
 "metadata": {
  "interpreter": {
   "hash": "ad2bdc8ecc057115af97d19610ffacc2b4e99fae6737bb82f5d7fb13d2f2c186"
  },
  "kernelspec": {
   "display_name": "Python 3 (ipykernel)",
   "language": "python",
   "name": "python3"
  },
  "language_info": {
   "codemirror_mode": {
    "name": "ipython",
    "version": 3
   },
   "file_extension": ".py",
   "mimetype": "text/x-python",
   "name": "python",
   "nbconvert_exporter": "python",
   "pygments_lexer": "ipython3",
   "version": "3.10.9"
  }
 },
 "nbformat": 4,
 "nbformat_minor": 5
}
