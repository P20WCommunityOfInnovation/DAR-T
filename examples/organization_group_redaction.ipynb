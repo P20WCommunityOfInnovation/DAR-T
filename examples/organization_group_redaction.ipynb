{
 "cells": [
  {
   "cell_type": "code",
   "execution_count": null,
   "id": "222896aa-50fe-4d95-9a5d-03ecf6772479",
   "metadata": {},
   "outputs": [],
   "source": []
  },
  {
   "cell_type": "code",
   "execution_count": null,
   "id": "2e7f17b0-ed69-43a1-844f-81718f4165bb",
   "metadata": {},
   "outputs": [],
   "source": [
    "import pandas as pd\n",
    "import sys\n",
    "pd.set_option('display.max_rows', 100)"
   ]
  },
  {
   "cell_type": "code",
   "execution_count": null,
   "id": "03e4a022-522e-44e6-8a45-dec99fd9d1d1",
   "metadata": {},
   "outputs": [],
   "source": [
    "sys.path.append('..\\\\packages')"
   ]
  },
  {
   "cell_type": "code",
   "execution_count": null,
   "id": "91864947-3c61-4483-bc94-40afa8e237ac",
   "metadata": {},
   "outputs": [],
   "source": [
    "from suppression_check import DataAnonymizer"
   ]
  },
  {
   "cell_type": "markdown",
   "id": "30240063-039e-4ae9-b5a9-22e4333cc0e6",
   "metadata": {},
   "source": [
    "# CSV file with PreRedacted Data"
   ]
  },
  {
   "cell_type": "code",
   "execution_count": null,
   "id": "f8bb3330-85bf-4b7e-983c-27d2cfe139e7",
   "metadata": {},
   "outputs": [],
   "source": [
    "file_path = r'..\\data\\GraduationELLGender.csv'"
   ]
  },
  {
   "cell_type": "markdown",
   "id": "15c71d29-3ce4-4cf6-b9aa-f3a97cadf12a",
   "metadata": {},
   "source": [
    "# Load the CSV file into a DataFrame"
   ]
  },
  {
   "cell_type": "code",
   "execution_count": null,
   "id": "a45a7ea0-c25d-4e2b-a322-369a2e458633",
   "metadata": {},
   "outputs": [],
   "source": [
    "df_data = pd.read_csv(file_path)"
   ]
  },
  {
   "cell_type": "markdown",
   "id": "701afc45-ffea-4c11-9e19-402f82a1b8bd",
   "metadata": {},
   "source": [
    "# Instantiate the anonymizer"
   ]
  },
  {
   "cell_type": "code",
   "execution_count": null,
   "id": "c6bbdd45-af92-402e-81d2-5bd2713a20bc",
   "metadata": {},
   "outputs": [],
   "source": [
    "organization_list = ['ParentEntity', 'ChildEntity']"
   ]
  },
  {
   "cell_type": "code",
   "execution_count": null,
   "id": "23e088c8-5b12-4010-bf4d-1be22b94887e",
   "metadata": {},
   "outputs": [],
   "source": [
    "sensitive_list = ['Subgroup1', 'Subgroup2']"
   ]
  },
  {
   "cell_type": "code",
   "execution_count": null,
   "id": "a4fe8184-5d15-4112-964b-bd378a93df1d",
   "metadata": {},
   "outputs": [],
   "source": [
    "frequency_value = 'GraduationCount'"
   ]
  },
  {
   "cell_type": "code",
   "execution_count": null,
   "id": "d7f1d2f2-57a1-47e9-b6ee-9be88db97819",
   "metadata": {},
   "outputs": [],
   "source": [
    "anonymizer = DataAnonymizer(df_data, organization_columns=organization_list, sensitive_columns=sensitive_list, frequency=frequency_value)"
   ]
  },
  {
   "cell_type": "code",
   "execution_count": null,
   "id": "bf39958a-2548-4630-a781-9eee11f2cd55",
   "metadata": {},
   "outputs": [],
   "source": [
    "df_log = anonymizer.create_log()"
   ]
  },
  {
   "cell_type": "code",
   "execution_count": null,
   "id": "82c7135e-2779-4251-8729-afbbf23b04a8",
   "metadata": {},
   "outputs": [],
   "source": [
    "display(df_log)"
   ]
  },
  {
   "cell_type": "code",
   "execution_count": null,
   "id": "a4039452-6866-40f3-941d-7e9908990daa",
   "metadata": {},
   "outputs": [],
   "source": [
    "df_redact_threshold = anonymizer.less_than_threshold_not_zero()"
   ]
  },
  {
   "cell_type": "code",
   "execution_count": null,
   "id": "ad7b5247-c691-4535-a5ab-142c6390bd11",
   "metadata": {},
   "outputs": [],
   "source": [
    "df_redact_threshold.loc[:, 'Overlapping'] = 0"
   ]
  },
  {
   "cell_type": "code",
   "execution_count": null,
   "id": "c8c6b49e-e933-4924-8dd1-526ccbbe203a",
   "metadata": {},
   "outputs": [],
   "source": [
    "for organization_column in organization_list:\n",
    "    for sensitive_column in sensitive_list:\n",
    "        redacted_filter = df_redact_threshold['RedactBinary'] == 1\n",
    "        null_filter = (~((df_redact_threshold[sensitive_column].isna()) & (df_redact_threshold[organization_column].isna())))\n",
    "        filter = (redacted_filter & null_filter)\n",
    "        df_redacted = df_redact_threshold[filter][[organization_column, sensitive_column]].drop_duplicates()\n",
    "        df_redacted['OverlappingAdd'] = 1\n",
    "        df_redact_threshold = df_redact_threshold.merge(df_redacted, on=[organization_column, sensitive_column], how='left')\n",
    "        df_redact_threshold['OverlappingAdd'].fillna(0, inplace=True)\n",
    "        df_redact_threshold.loc[~redacted_filter, 'Overlapping'] = df_redact_threshold['Overlapping'] + df_redact_threshold['OverlappingAdd']\n",
    "        df_redact_threshold.drop('OverlappingAdd', axis=1, inplace=True)\n",
    "for sensitive_column in sensitive_list:\n",
    "    redacted_filter = df_redact_threshold['RedactBinary'] == 1\n",
    "    null_filter = df_redact_threshold[sensitive_column].notna()\n",
    "    filter = (redacted_filter & null_filter)\n",
    "    df_redacted = df_redact_threshold[filter][[sensitive_column]].drop_duplicates()\n",
    "    df_redacted['OverlappingAdd'] = 1\n",
    "    df_redact_threshold = df_redact_threshold.merge(df_redacted, on=[sensitive_column], how='left')\n",
    "    df_redact_threshold['OverlappingAdd'].fillna(0, inplace=True)\n",
    "    df_redact_threshold.loc[~redacted_filter, 'Overlapping'] = df_redact_threshold['Overlapping'] + df_redact_threshold['OverlappingAdd']\n",
    "    df_redact_threshold.drop('OverlappingAdd', axis=1, inplace=True)\n",
    "for organization_column in organization_list:\n",
    "    redacted_filter = df_redact_threshold['RedactBinary'] == 1\n",
    "    null_filter = df_redact_threshold[organization_column].notna()\n",
    "    filter = (redacted_filter & null_filter)\n",
    "    df_redacted = df_redact_threshold[filter][[organization_column]].drop_duplicates()\n",
    "    df_redacted['OverlappingAdd'] = 1\n",
    "    df_redact_threshold = df_redact_threshold.merge(df_redacted, on=[organization_column], how='left')\n",
    "    df_redact_threshold['OverlappingAdd'].fillna(0, inplace=True)\n",
    "    df_redact_threshold.loc[~redacted_filter, 'Overlapping'] = df_redact_threshold['Overlapping'] + df_redact_threshold['OverlappingAdd']\n",
    "    df_redact_threshold.drop('OverlappingAdd', axis=1, inplace=True)\n",
    "display(df_redact_threshold)"
   ]
  },
  {
   "cell_type": "code",
   "execution_count": null,
   "id": "6b92627c-1e8b-4104-97a0-ba30fa7ec864",
   "metadata": {},
   "outputs": [],
   "source": [
    "df_min = df_redact_threshold[df_redact_threshold['RedactBinary'] != 1].groupby('RedactBinary').min().reset_index()\n",
    "minimum_value = df_min['Overlapping'].loc[0]\n",
    "df_max = df_redact_threshold[df_redact_threshold['RedactBinary'] != 1].groupby('RedactBinary').max().reset_index()\n",
    "display(df_max)\n",
    "max_value = df_max['Overlapping'].loc[0]\n",
    "print(minimum_value)\n",
    "print(max_value)"
   ]
  },
  {
   "cell_type": "code",
   "execution_count": null,
   "id": "bb3963bf-79fa-4cb6-993c-bfbd298a7d76",
   "metadata": {},
   "outputs": [],
   "source": [
    "print(minimum_value)\n",
    "print(max_value)"
   ]
  },
  {
   "cell_type": "code",
   "execution_count": null,
   "id": "e880c90c-b9c6-4d98-ba05-97635b322e4d",
   "metadata": {},
   "outputs": [],
   "source": [
    "mask = (self.df_log['Overlapping'] == self.df_log['Overlapping'].max()) & (self.df_log['RedactBinary'] == 0)\n",
    "\n",
    "self.df_log.loc[mask, 'Redact'] = 'Overlapping threshold secondary suppression'\n",
    "\n",
    "self.df_log.loc[mask, 'RedactBinary'] = 1"
   ]
  },
  {
   "cell_type": "code",
   "execution_count": null,
   "id": "6479a976-0f71-44f7-93c5-e6fb5da8ae0d",
   "metadata": {},
   "outputs": [],
   "source": [
    "df_one_count = anonymizer.one_count_redacted()"
   ]
  },
  {
   "cell_type": "code",
   "execution_count": null,
   "id": "6a21a6cb-55e7-486c-ae59-d838a86928d6",
   "metadata": {},
   "outputs": [],
   "source": [
    "display(df_one_count)"
   ]
  },
  {
   "cell_type": "code",
   "execution_count": null,
   "id": "090a4965-97c1-4081-b920-ad0ffd9b9a57",
   "metadata": {},
   "outputs": [],
   "source": []
  }
 ],
 "metadata": {
  "kernelspec": {
   "display_name": "Python 3 (ipykernel)",
   "language": "python",
   "name": "python3"
  },
  "language_info": {
   "codemirror_mode": {
    "name": "ipython",
    "version": 3
   },
   "file_extension": ".py",
   "mimetype": "text/x-python",
   "name": "python",
   "nbconvert_exporter": "python",
   "pygments_lexer": "ipython3",
   "version": "3.10.9"
  }
 },
 "nbformat": 4,
 "nbformat_minor": 5
}
