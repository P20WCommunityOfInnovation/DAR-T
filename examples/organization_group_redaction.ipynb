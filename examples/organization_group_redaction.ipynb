{
 "cells": [
  {
   "cell_type": "code",
   "execution_count": null,
   "id": "222896aa-50fe-4d95-9a5d-03ecf6772479",
   "metadata": {},
   "outputs": [],
   "source": []
  },
  {
   "cell_type": "code",
   "execution_count": null,
   "id": "2e7f17b0-ed69-43a1-844f-81718f4165bb",
   "metadata": {},
   "outputs": [],
   "source": [
    "import pandas as pd\n",
    "import sys\n",
    "import numpy as np\n",
    "from itertools import combinations\n",
    "pd.set_option('display.max_rows', 100)"
   ]
  },
  {
   "cell_type": "code",
   "execution_count": null,
   "id": "03e4a022-522e-44e6-8a45-dec99fd9d1d1",
   "metadata": {},
   "outputs": [],
   "source": [
    "sys.path.append('..\\\\packages')"
   ]
  },
  {
   "cell_type": "code",
   "execution_count": null,
   "id": "91864947-3c61-4483-bc94-40afa8e237ac",
   "metadata": {},
   "outputs": [],
   "source": [
    "from suppression_check import DataAnonymizer"
   ]
  },
  {
   "cell_type": "markdown",
   "id": "30240063-039e-4ae9-b5a9-22e4333cc0e6",
   "metadata": {},
   "source": [
    "# CSV file with PreRedacted Data"
   ]
  },
  {
   "cell_type": "code",
   "execution_count": null,
   "id": "f8bb3330-85bf-4b7e-983c-27d2cfe139e7",
   "metadata": {},
   "outputs": [],
   "source": [
    "file_path = r'..\\data\\NCSCHCWDBLIDEAv112346.csv'"
   ]
  },
  {
   "cell_type": "markdown",
   "id": "15c71d29-3ce4-4cf6-b9aa-f3a97cadf12a",
   "metadata": {},
   "source": [
    "# Load the CSV file into a DataFrame"
   ]
  },
  {
   "cell_type": "code",
   "execution_count": null,
   "id": "a45a7ea0-c25d-4e2b-a322-369a2e458633",
   "metadata": {},
   "outputs": [],
   "source": [
    "df_data = pd.read_csv(file_path)"
   ]
  },
  {
   "cell_type": "markdown",
   "id": "701afc45-ffea-4c11-9e19-402f82a1b8bd",
   "metadata": {},
   "source": [
    "# Instantiate the anonymizer"
   ]
  },
  {
   "cell_type": "code",
   "execution_count": null,
   "id": "c6bbdd45-af92-402e-81d2-5bd2713a20bc",
   "metadata": {},
   "outputs": [],
   "source": [
    "organization_list = ['DistrictCode', 'SchoolCode']"
   ]
  },
  {
   "cell_type": "code",
   "execution_count": null,
   "id": "4aea54c5-5444-4f55-9bb3-688ea7afef63",
   "metadata": {},
   "outputs": [],
   "source": [
    "parent_org = 'DistrictCode'"
   ]
  },
  {
   "cell_type": "code",
   "execution_count": null,
   "id": "56ea90fd-92d1-4409-a508-344694654795",
   "metadata": {},
   "outputs": [],
   "source": [
    "child_org = 'SchoolCode'"
   ]
  },
  {
   "cell_type": "code",
   "execution_count": null,
   "id": "23e088c8-5b12-4010-bf4d-1be22b94887e",
   "metadata": {},
   "outputs": [],
   "source": [
    "sensitive_list = ['RaceEthnicity', 'Sex', 'DisabilityCategory', 'Age', 'IdeaEducationalEnvironment', 'EnglishLearnerStatus']"
   ]
  },
  {
   "cell_type": "code",
   "execution_count": null,
   "id": "a4fe8184-5d15-4112-964b-bd378a93df1d",
   "metadata": {},
   "outputs": [],
   "source": [
    "frequency_value = 'StudentCount'"
   ]
  },
  {
   "cell_type": "code",
   "execution_count": null,
   "id": "d7f1d2f2-57a1-47e9-b6ee-9be88db97819",
   "metadata": {},
   "outputs": [],
   "source": [
    "anonymizer = DataAnonymizer(df_data, parent_organization=parent_org, child_organization = child_org, sensitive_columns=sensitive_list, frequency=frequency_value)"
   ]
  },
  {
   "cell_type": "code",
   "execution_count": null,
   "id": "bf39958a-2548-4630-a781-9eee11f2cd55",
   "metadata": {},
   "outputs": [],
   "source": [
    "anonymizer.create_log()"
   ]
  },
  {
   "cell_type": "code",
   "execution_count": null,
   "id": "a4039452-6866-40f3-941d-7e9908990daa",
   "metadata": {},
   "outputs": [],
   "source": [
    "df_less_than_threshold = anonymizer.less_than_threshold_not_zero()"
   ]
  },
  {
   "cell_type": "code",
   "execution_count": null,
   "id": "61955764-36d5-451e-a00b-cbcf4b82a957",
   "metadata": {},
   "outputs": [],
   "source": [
    "df_less_than_threshold.to_csv('LessThresholdAnalyze.csv')"
   ]
  },
  {
   "cell_type": "code",
   "execution_count": null,
   "id": "6479a976-0f71-44f7-93c5-e6fb5da8ae0d",
   "metadata": {},
   "outputs": [],
   "source": [
    "df_one_count = anonymizer.one_count_redacted()"
   ]
  },
  {
   "cell_type": "code",
   "execution_count": null,
   "id": "a7c60735-dcb8-4402-ab93-73b5ca29d2a1",
   "metadata": {},
   "outputs": [],
   "source": [
    "df_one_count.to_csv('OneCountAnalyze.csv')"
   ]
  },
  {
   "cell_type": "code",
   "execution_count": null,
   "id": "090a4965-97c1-4081-b920-ad0ffd9b9a57",
   "metadata": {},
   "outputs": [],
   "source": [
    "df_sum_redact = anonymizer.sum_redact()"
   ]
  },
  {
   "cell_type": "code",
   "execution_count": null,
   "id": "987574f4-e37e-475c-a2de-3c596050f5a7",
   "metadata": {},
   "outputs": [],
   "source": [
    "df_sum_redact.to_csv('SumRedactAnalyze.csv')"
   ]
  },
  {
   "cell_type": "code",
   "execution_count": null,
   "id": "51b66c3a-0d7b-472e-8bfe-9c14a53db814",
   "metadata": {},
   "outputs": [],
   "source": [
    "df_zero = anonymizer.one_redact_zero()"
   ]
  },
  {
   "cell_type": "code",
   "execution_count": null,
   "id": "f089f227-98aa-4a5e-85fe-d17001fb9bef",
   "metadata": {},
   "outputs": [],
   "source": [
    "df_zero.to_csv('ZeroAnalyze.csv')"
   ]
  },
  {
   "cell_type": "code",
   "execution_count": null,
   "id": "7e73fa2a-3931-4329-be7a-5850ad4e235a",
   "metadata": {},
   "outputs": [],
   "source": [
    "display(df_zero[~df_zero[child_org].isnull() & ~df_zero[parent_org].isnull()])"
   ]
  },
  {
   "cell_type": "code",
   "execution_count": null,
   "id": "9948ebc4-2e69-417c-83c6-d6c3342d6b3f",
   "metadata": {},
   "outputs": [],
   "source": [
    "organization_run = 1\n",
    "df_zero_parent_redact = df_zero[df_zero[child_org].isnull()]\n",
    "redact_name = 'RedactParentBinary'\n",
    "df_zero_parent_redact.rename(columns = {'RedactBinary':redact_name}, inplace=True)\n",
    "df_zero_parent_redact = df_zero_parent_redact[[parent_org] + sensitive_list + [redact_name]]\n",
    "df_zero_parent_redact.drop_duplicates(inplace=True)\n",
    "df_core_parent = df_zero.merge(df_zero_parent_redact, on = [parent_org] + sensitive_list, how='left')"
   ]
  },
  {
   "cell_type": "code",
   "execution_count": null,
   "id": "82410bcd-cd26-4d87-b29e-324698d19a6c",
   "metadata": {},
   "outputs": [],
   "source": [
    "df_zero_sensitive = df_zero[df_zero[child_org].isnull() & df_zero[parent_org].isnull()]\n",
    "redact_name = 'RedactSensitiveBinary'\n",
    "df_zero_sensitive.rename(columns = {'RedactBinary':redact_name}, inplace=True)\n",
    "df_zero_sensitive = df_zero_sensitive[sensitive_list + [redact_name]]\n",
    "df_zero_sensitive.drop_duplicates(inplace=True)\n",
    "\n",
    "df_core_sensisitive = df_zero.merge(df_zero_sensitive, on =sensitive_list, how='left')\n",
    "\n",
    "df_core_sensisitive.to_csv('SensitiveReview.csv')"
   ]
  },
  {
   "cell_type": "code",
   "execution_count": null,
   "id": "4201fdf2-5e62-42c6-9b57-343c1361a990",
   "metadata": {},
   "outputs": [],
   "source": [
    "df_zero_parent = df_zero[df_zero[child_organization].isnull()]"
   ]
  },
  {
   "cell_type": "code",
   "execution_count": null,
   "id": "ddd001ed-cefb-4b55-abeb-9b8099229acc",
   "metadata": {},
   "outputs": [],
   "source": [
    "display(df_zero[['DistrictCode', 'SchoolCode', 'RaceEthnicity']].head(20))"
   ]
  },
  {
   "cell_type": "code",
   "execution_count": null,
   "id": "473f2541-106b-440b-9045-e470b7ca2c60",
   "metadata": {},
   "outputs": [],
   "source": [
    "display(df_data.head(20))"
   ]
  },
  {
   "cell_type": "code",
   "execution_count": null,
   "id": "76a97874-629e-4d37-a1a7-9b634a3af4b6",
   "metadata": {},
   "outputs": [],
   "source": [
    "#df_apply_log = anonymizer.apply_log()"
   ]
  },
  {
   "cell_type": "code",
   "execution_count": null,
   "id": "f0c1ebb6-9d30-48f3-a01a-4a2a2e53dab7",
   "metadata": {},
   "outputs": [],
   "source": [
    "#df_apply_log.to_csv('MergedTotals.csv')"
   ]
  },
  {
   "cell_type": "code",
   "execution_count": null,
   "id": "1574fc78-c99d-4652-819f-be6ce337280a",
   "metadata": {},
   "outputs": [],
   "source": []
  }
 ],
 "metadata": {
  "kernelspec": {
   "display_name": "Python 3 (ipykernel)",
   "language": "python",
   "name": "python3"
  },
  "language_info": {
   "codemirror_mode": {
    "name": "ipython",
    "version": 3
   },
   "file_extension": ".py",
   "mimetype": "text/x-python",
   "name": "python",
   "nbconvert_exporter": "python",
   "pygments_lexer": "ipython3",
   "version": "3.10.9"
  }
 },
 "nbformat": 4,
 "nbformat_minor": 5
}
