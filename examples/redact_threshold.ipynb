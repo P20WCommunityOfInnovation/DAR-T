{
 "cells": [
  {
   "cell_type": "code",
   "execution_count": null,
   "id": "e3fb8d9a",
   "metadata": {},
   "outputs": [],
   "source": [
    "import pandas as pd\n",
    "import sys"
   ]
  },
  {
   "cell_type": "code",
   "execution_count": null,
   "id": "4b8ff24b-869a-4aee-94da-65c4f0d711e5",
   "metadata": {},
   "outputs": [],
   "source": [
    "sys.path.append('..\\\\packages')"
   ]
  },
  {
   "cell_type": "code",
   "execution_count": null,
   "id": "e9132aeb-292c-4ea1-bd0f-c8e5fc6a1529",
   "metadata": {},
   "outputs": [],
   "source": [
    "from suppression_check import DataAnonymizer"
   ]
  },
  {
   "cell_type": "markdown",
   "id": "ea604cb5-5e96-4134-9e84-776c7435521e",
   "metadata": {},
   "source": [
    "# Corrected relative path to the CSV file"
   ]
  },
  {
   "cell_type": "code",
   "execution_count": null,
   "id": "aea88987-0d6e-43a1-89b2-e199281c5d79",
   "metadata": {},
   "outputs": [],
   "source": [
    "file_path = r'..\\data\\DataDegreeBeth.csv'"
   ]
  },
  {
   "cell_type": "markdown",
   "id": "8edf3015-7747-49f1-806c-1dd5bf5a70c2",
   "metadata": {},
   "source": [
    "# Load the CSV file into a DataFrame"
   ]
  },
  {
   "cell_type": "code",
   "execution_count": null,
   "id": "59199a5e",
   "metadata": {},
   "outputs": [],
   "source": [
    "df_data = pd.read_csv(file_path)\n",
    "display(df_data)"
   ]
  },
  {
   "cell_type": "markdown",
   "id": "ffcf4ecb-a0ed-4790-a507-c4404423e2ee",
   "metadata": {},
   "source": [
    "# Instantiate the anonymizer"
   ]
  },
  {
   "cell_type": "code",
   "execution_count": null,
   "id": "2a500c30-d0fb-4402-8668-c020368150a8",
   "metadata": {},
   "outputs": [],
   "source": [
    "anonymizer = DataAnonymizer(df_data, sensitive_columns=['Subgroup1', 'Subgroup2'], frequency='Counts')"
   ]
  },
  {
   "cell_type": "markdown",
   "id": "7213e55c-7bf7-4ebc-a7b5-fdbead7afe05",
   "metadata": {},
   "source": [
    "# Apply Redact Threshold"
   ]
  },
  {
   "cell_type": "code",
   "execution_count": null,
   "id": "10d12ae0-de96-44da-95a1-6174895a77d8",
   "metadata": {},
   "outputs": [],
   "source": [
    "df_redact_threshold = anonymizer.redact_threshold()\n",
    "display(df_redact_threshold)"
   ]
  },
  {
   "cell_type": "code",
   "execution_count": null,
   "id": "4567b28a",
   "metadata": {},
   "outputs": [],
   "source": []
  },
  {
   "cell_type": "code",
   "execution_count": null,
   "id": "f5d9d0f7-e2e1-4bb5-ab41-9d324da5994d",
   "metadata": {},
   "outputs": [],
   "source": [
    "df_redact_threshold.loc[:, 'Overlapping'] = 0"
   ]
  },
  {
   "cell_type": "code",
   "execution_count": null,
   "id": "24a114d9-742b-46fd-9c78-1e0edbcfe8bf",
   "metadata": {},
   "outputs": [],
   "source": [
    "for organization_column in organization_list:\n",
    "    for sensitive_column in sensitive_list:\n",
    "        redacted_filter = df_redact_threshold['RedactBinary'] == 1\n",
    "        null_filter = (~((df_redact_threshold[sensitive_column].isna()) & (df_redact_threshold[organization_column].isna())))\n",
    "        filter = (redacted_filter & null_filter)\n",
    "        df_redacted = df_redact_threshold[filter][[organization_column, sensitive_column]].drop_duplicates()\n",
    "        df_redacted['OverlappingAdd'] = 1\n",
    "        df_redact_threshold = df_redact_threshold.merge(df_redacted, on=[organization_column, sensitive_column], how='left')\n",
    "        df_redact_threshold['OverlappingAdd'].fillna(0, inplace=True)\n",
    "        df_redact_threshold.loc[~redacted_filter, 'Overlapping'] = df_redact_threshold['Overlapping'] + df_redact_threshold['OverlappingAdd']\n",
    "        df_redact_threshold.drop('OverlappingAdd', axis=1, inplace=True)\n",
    "for sensitive_column in sensitive_list:\n",
    "    redacted_filter = df_redact_threshold['RedactBinary'] == 1\n",
    "    null_filter = df_redact_threshold[sensitive_column].notna()\n",
    "    filter = (redacted_filter & null_filter)\n",
    "    df_redacted = df_redact_threshold[filter][[sensitive_column]].drop_duplicates()\n",
    "    df_redacted['OverlappingAdd'] = 1\n",
    "    df_redact_threshold = df_redact_threshold.merge(df_redacted, on=[sensitive_column], how='left')\n",
    "    df_redact_threshold['OverlappingAdd'].fillna(0, inplace=True)\n",
    "    df_redact_threshold.loc[~redacted_filter, 'Overlapping'] = df_redact_threshold['Overlapping'] + df_redact_threshold['OverlappingAdd']\n",
    "    df_redact_threshold.drop('OverlappingAdd', axis=1, inplace=True)\n",
    "for organization_column in organization_list:\n",
    "    redacted_filter = df_redact_threshold['RedactBinary'] == 1\n",
    "    null_filter = df_redact_threshold[organization_column].notna()\n",
    "    filter = (redacted_filter & null_filter)\n",
    "    df_redacted = df_redact_threshold[filter][[organization_column]].drop_duplicates()\n",
    "    df_redacted['OverlappingAdd'] = 1\n",
    "    df_redact_threshold = df_redact_threshold.merge(df_redacted, on=[organization_column], how='left')\n",
    "    df_redact_threshold['OverlappingAdd'].fillna(0, inplace=True)\n",
    "    df_redact_threshold.loc[~redacted_filter, 'Overlapping'] = df_redact_threshold['Overlapping'] + df_redact_threshold['OverlappingAdd']\n",
    "    df_redact_threshold.drop('OverlappingAdd', axis=1, inplace=True)\n",
    "display(df_redact_threshold)"
   ]
  },
  {
   "cell_type": "code",
   "execution_count": null,
   "id": "245f13c5-4175-4b4b-b550-b99facbe3cff",
   "metadata": {},
   "outputs": [],
   "source": [
    "df_min = df_redact_threshold[df_redact_threshold['RedactBinary'] != 1].groupby('RedactBinary').min().reset_index()\n",
    "minimum_value = df_min['Overlapping'].loc[0]\n",
    "df_max = df_redact_threshold[df_redact_threshold['RedactBinary'] != 1].groupby('RedactBinary').max().reset_index()\n",
    "display(df_max)\n",
    "max_value = df_max['Overlapping'].loc[0]\n"
   ]
  },
  {
   "cell_type": "code",
   "execution_count": null,
   "id": "cbea8984-7c2c-480a-b0d9-38fa62456a97",
   "metadata": {},
   "outputs": [],
   "source": [
    "print(minimum_value)\n",
    "print(max_value)"
   ]
  },
  {
   "cell_type": "code",
   "execution_count": null,
   "id": "1ec354f2-edc6-4ccc-b182-f012f4a78599",
   "metadata": {},
   "outputs": [],
   "source": [
    "df_redact_threshold.to_csv('RedactThreshold.csv')"
   ]
  },
  {
   "cell_type": "code",
   "execution_count": null,
   "id": "8b81f612-5e93-4edb-946a-dd74cf64fd3a",
   "metadata": {},
   "outputs": [],
   "source": []
  }
 ],
 "metadata": {
  "kernelspec": {
   "display_name": "Python 3 (ipykernel)",
   "language": "python",
   "name": "python3"
  },
  "language_info": {
   "codemirror_mode": {
    "name": "ipython",
    "version": 3
   },
   "file_extension": ".py",
   "mimetype": "text/x-python",
   "name": "python",
   "nbconvert_exporter": "python",
   "pygments_lexer": "ipython3",
   "version": "3.10.9"
  }
 },
 "nbformat": 4,
 "nbformat_minor": 5
}
