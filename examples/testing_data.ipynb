{
 "cells": [
  {
   "cell_type": "code",
   "execution_count": null,
   "id": "222896aa-50fe-4d95-9a5d-03ecf6772479",
   "metadata": {},
   "outputs": [],
   "source": []
  },
  {
   "cell_type": "code",
   "execution_count": null,
   "id": "2e7f17b0-ed69-43a1-844f-81718f4165bb",
   "metadata": {},
   "outputs": [],
   "source": [
    "import pandas as pd\n",
    "import sys\n",
    "import numpy as np\n",
    "from itertools import combinations\n",
    "pd.set_option('display.max_rows', 100)"
   ]
  },
  {
   "cell_type": "code",
   "execution_count": null,
   "id": "03e4a022-522e-44e6-8a45-dec99fd9d1d1",
   "metadata": {},
   "outputs": [],
   "source": [
    "sys.path.append('..\\\\packages')"
   ]
  },
  {
   "cell_type": "code",
   "execution_count": null,
   "id": "91864947-3c61-4483-bc94-40afa8e237ac",
   "metadata": {},
   "outputs": [],
   "source": [
    "from suppression_check import DataAnonymizer"
   ]
  },
  {
   "cell_type": "markdown",
   "id": "30240063-039e-4ae9-b5a9-22e4333cc0e6",
   "metadata": {},
   "source": [
    "# CSV file with PreRedacted Data"
   ]
  },
  {
   "cell_type": "code",
   "execution_count": null,
   "id": "f8bb3330-85bf-4b7e-983c-27d2cfe139e7",
   "metadata": {},
   "outputs": [],
   "source": [
    "file_path = r'..\\data\\TestingData.csv'"
   ]
  },
  {
   "cell_type": "markdown",
   "id": "15c71d29-3ce4-4cf6-b9aa-f3a97cadf12a",
   "metadata": {},
   "source": [
    "# Load the CSV file into a DataFrame"
   ]
  },
  {
   "cell_type": "code",
   "execution_count": null,
   "id": "a45a7ea0-c25d-4e2b-a322-369a2e458633",
   "metadata": {},
   "outputs": [],
   "source": [
    "df_data = pd.read_csv(file_path)"
   ]
  },
  {
   "cell_type": "markdown",
   "id": "701afc45-ffea-4c11-9e19-402f82a1b8bd",
   "metadata": {},
   "source": [
    "# Instantiate the anonymizer"
   ]
  },
  {
   "cell_type": "code",
   "execution_count": null,
   "id": "107fd371-5d4a-40b0-95e2-3c91f5e4e2bf",
   "metadata": {},
   "outputs": [],
   "source": [
    "parent_org = 'ParentEntity'"
   ]
  },
  {
   "cell_type": "code",
   "execution_count": null,
   "id": "3feb5ff9-d848-443f-a4fc-02ea906ca77e",
   "metadata": {},
   "outputs": [],
   "source": [
    "child_org = 'ChildEntity'"
   ]
  },
  {
   "cell_type": "code",
   "execution_count": null,
   "id": "23e088c8-5b12-4010-bf4d-1be22b94887e",
   "metadata": {},
   "outputs": [],
   "source": [
    "sensitive_list = ['Subgroup1', 'Subgroup2']"
   ]
  },
  {
   "cell_type": "code",
   "execution_count": null,
   "id": "a4fe8184-5d15-4112-964b-bd378a93df1d",
   "metadata": {},
   "outputs": [],
   "source": [
    "frequency_value = 'GraduationCount'"
   ]
  },
  {
   "cell_type": "code",
   "execution_count": null,
   "id": "14443e86-f507-4412-8b03-c22006fb3cc9",
   "metadata": {},
   "outputs": [],
   "source": [
    "redact_column = 'UserRedaction'"
   ]
  },
  {
   "cell_type": "code",
   "execution_count": null,
   "id": "d7f1d2f2-57a1-47e9-b6ee-9be88db97819",
   "metadata": {},
   "outputs": [],
   "source": [
    "anonymizer = DataAnonymizer(df_data, \n",
    "                            # parent_organization=parent_org, \n",
    "                            # child_organization = child_org, \n",
    "                            sensitive_columns=sensitive_list, \n",
    "                            frequency=frequency_value, \n",
    "                            redact_column=redact_column)"
   ]
  },
  {
   "cell_type": "code",
   "execution_count": null,
   "id": "bf39958a-2548-4630-a781-9eee11f2cd55",
   "metadata": {},
   "outputs": [],
   "source": [
    "df_log = anonymizer.create_log()"
   ]
  },
  {
   "cell_type": "code",
   "execution_count": null,
   "id": "30b350d7-f2d4-4c77-8c66-76ed1736a05d",
   "metadata": {},
   "outputs": [],
   "source": [
    "df_redact_user_requested_records = anonymizer.redact_user_requested_records()"
   ]
  },
  {
   "cell_type": "code",
   "execution_count": null,
   "id": "a4039452-6866-40f3-941d-7e9908990daa",
   "metadata": {},
   "outputs": [],
   "source": [
    "df_less_than_threshold = anonymizer.less_than_threshold()"
   ]
  },
  {
   "cell_type": "code",
   "execution_count": null,
   "id": "7bce7897-a38d-4c76-a0b1-37dbc91f60b0",
   "metadata": {},
   "outputs": [],
   "source": [
    "df_less_than_threshold[df_less_than_threshold['RedactBreakdown'].str.contains('User-requested redaction')]"
   ]
  },
  {
   "cell_type": "code",
   "execution_count": null,
   "id": "277c455c-85d9-4a7d-baff-38499267352a",
   "metadata": {},
   "outputs": [],
   "source": [
    "df_sum_redact = anonymizer.sum_redact()"
   ]
  },
  {
   "cell_type": "code",
   "execution_count": null,
   "id": "83f60024-a0ab-490f-be96-47dd06b20888",
   "metadata": {},
   "outputs": [],
   "source": [
    "df_sum_redact"
   ]
  },
  {
   "cell_type": "code",
   "execution_count": null,
   "id": "6479a976-0f71-44f7-93c5-e6fb5da8ae0d",
   "metadata": {},
   "outputs": [],
   "source": [
    "df_one_count = anonymizer.one_count_redacted()"
   ]
  },
  {
   "cell_type": "code",
   "execution_count": null,
   "id": "414a205b-ba14-49b3-a2a0-7c26fb906aed",
   "metadata": {},
   "outputs": [],
   "source": [
    "df_one_count"
   ]
  },
  {
   "cell_type": "code",
   "execution_count": null,
   "id": "c5900aea-b7a1-418d-9f5b-2041ee1b4073",
   "metadata": {},
   "outputs": [],
   "source": [
    "df_one_redact_zero = anonymizer.one_redact_zero()"
   ]
  },
  {
   "cell_type": "code",
   "execution_count": null,
   "id": "d8384fe0-6a1f-48b3-984e-b0f611f64d56",
   "metadata": {},
   "outputs": [],
   "source": [
    "df_one_redact_zero"
   ]
  },
  {
   "cell_type": "code",
   "execution_count": null,
   "id": "f736fe40-aa3f-4f27-a784-6caeb7b921e8",
   "metadata": {},
   "outputs": [],
   "source": [
    "df_cross_suppression = anonymizer.cross_suppression()"
   ]
  },
  {
   "cell_type": "code",
   "execution_count": null,
   "id": "c68dcf1d-2485-44d5-9dca-a26086934c0d",
   "metadata": {},
   "outputs": [],
   "source": [
    "df_cross_suppression"
   ]
  },
  {
   "cell_type": "code",
   "execution_count": null,
   "id": "76a97874-629e-4d37-a1a7-9b634a3af4b6",
   "metadata": {},
   "outputs": [],
   "source": [
    "df_apply_log = anonymizer.apply_log()"
   ]
  },
  {
   "cell_type": "code",
   "execution_count": null,
   "id": "f0c1ebb6-9d30-48f3-a01a-4a2a2e53dab7",
   "metadata": {},
   "outputs": [],
   "source": [
    "df_apply_log[(df_apply_log[redact_column] == 1) & df_apply_log['RedactBreakdown'].str.contains('User-requested redaction')]"
   ]
  },
  {
   "cell_type": "code",
   "execution_count": null,
   "id": "c857c5c5-953e-49ad-8a2c-01b35d693a28",
   "metadata": {},
   "outputs": [],
   "source": [
    "anonymizer = DataAnonymizer(df_data, \n",
    "                            sensitive_columns=['Subgroup1', 'Subgroup2'], \n",
    "                            frequency='GraduationCount', \n",
    "                            redact_column=redact_column)"
   ]
  },
  {
   "cell_type": "code",
   "execution_count": null,
   "id": "b1c96f9a-ae91-4d0e-866f-c1092fdec058",
   "metadata": {},
   "outputs": [],
   "source": [
    "result_df = anonymizer.apply_anonymization()"
   ]
  },
  {
   "cell_type": "code",
   "execution_count": null,
   "id": "08c3fa53-9b0e-4fe1-b7b3-6baf70fb6819",
   "metadata": {},
   "outputs": [],
   "source": [
    "result_df[((result_df['GraduationCount']<= anonymizer.minimum_threshold) & (result_df['GraduationCount'] != 0) )"
   ]
  },
  {
   "cell_type": "code",
   "execution_count": null,
   "id": "cfc4a88b-9294-41fe-9fa1-90a02a573bcd",
   "metadata": {},
   "outputs": [],
   "source": []
  },
  {
   "cell_type": "code",
   "execution_count": null,
   "id": "9b0b7afa-1398-4314-98a1-487bb9acd9c4",
   "metadata": {},
   "outputs": [],
   "source": []
  },
  {
   "cell_type": "code",
   "execution_count": null,
   "id": "05123a60-afd2-4961-9c5b-fb01f7b007d3",
   "metadata": {},
   "outputs": [],
   "source": []
  },
  {
   "cell_type": "code",
   "execution_count": null,
   "id": "3a061112-5684-4309-9ffe-28b528913a4f",
   "metadata": {},
   "outputs": [],
   "source": []
  },
  {
   "cell_type": "code",
   "execution_count": null,
   "id": "0cf7b99f-5c6b-45cb-b35a-e16fd64f5bf7",
   "metadata": {},
   "outputs": [],
   "source": []
  },
  {
   "cell_type": "code",
   "execution_count": null,
   "id": "c3dd91ec-55bb-4e87-a8bb-eb47063edbee",
   "metadata": {},
   "outputs": [],
   "source": []
  },
  {
   "cell_type": "code",
   "execution_count": null,
   "id": "dcf4f841-286e-45f3-b374-078cf8268075",
   "metadata": {},
   "outputs": [],
   "source": []
  }
 ],
 "metadata": {
  "kernelspec": {
   "display_name": "Python 3 (ipykernel)",
   "language": "python",
   "name": "python3"
  },
  "language_info": {
   "codemirror_mode": {
    "name": "ipython",
    "version": 3
   },
   "file_extension": ".py",
   "mimetype": "text/x-python",
   "name": "python",
   "nbconvert_exporter": "python",
   "pygments_lexer": "ipython3",
   "version": "3.10.13"
  }
 },
 "nbformat": 4,
 "nbformat_minor": 5
}
