{
 "cells": [
  {
   "cell_type": "code",
   "execution_count": null,
   "id": "222896aa-50fe-4d95-9a5d-03ecf6772479",
   "metadata": {},
   "outputs": [],
   "source": []
  },
  {
   "cell_type": "code",
   "execution_count": null,
   "id": "2e7f17b0-ed69-43a1-844f-81718f4165bb",
   "metadata": {},
   "outputs": [],
   "source": [
    "import pandas as pd\n",
    "import sys\n",
    "import numpy as np\n",
    "from itertools import combinations\n",
    "pd.set_option('display.max_rows', 100)"
   ]
  },
  {
   "cell_type": "code",
   "execution_count": null,
   "id": "03e4a022-522e-44e6-8a45-dec99fd9d1d1",
   "metadata": {},
   "outputs": [],
   "source": [
    "sys.path.append('..\\\\packages')"
   ]
  },
  {
   "cell_type": "code",
   "execution_count": null,
   "id": "91864947-3c61-4483-bc94-40afa8e237ac",
   "metadata": {},
   "outputs": [],
   "source": [
    "from suppression_check import DataAnonymizer"
   ]
  },
  {
   "cell_type": "markdown",
   "id": "30240063-039e-4ae9-b5a9-22e4333cc0e6",
   "metadata": {},
   "source": [
    "# CSV file with PreRedacted Data"
   ]
  },
  {
   "cell_type": "code",
   "execution_count": null,
   "id": "f8bb3330-85bf-4b7e-983c-27d2cfe139e7",
   "metadata": {},
   "outputs": [],
   "source": [
    "file_path = r'..\\data\\TwoSensitive.csv'"
   ]
  },
  {
   "cell_type": "markdown",
   "id": "15c71d29-3ce4-4cf6-b9aa-f3a97cadf12a",
   "metadata": {},
   "source": [
    "# Load the CSV file into a DataFrame"
   ]
  },
  {
   "cell_type": "code",
   "execution_count": null,
   "id": "a45a7ea0-c25d-4e2b-a322-369a2e458633",
   "metadata": {},
   "outputs": [],
   "source": [
    "df_data = pd.read_csv(file_path)"
   ]
  },
  {
   "cell_type": "markdown",
   "id": "701afc45-ffea-4c11-9e19-402f82a1b8bd",
   "metadata": {},
   "source": [
    "# Instantiate the anonymizer"
   ]
  },
  {
   "cell_type": "code",
   "execution_count": null,
   "id": "23e088c8-5b12-4010-bf4d-1be22b94887e",
   "metadata": {},
   "outputs": [],
   "source": [
    "sensitive_list = ['Subgroup1', 'Subgroup2']"
   ]
  },
  {
   "cell_type": "code",
   "execution_count": null,
   "id": "a4fe8184-5d15-4112-964b-bd378a93df1d",
   "metadata": {},
   "outputs": [],
   "source": [
    "frequency_value = 'Counts'"
   ]
  },
  {
   "cell_type": "code",
   "execution_count": null,
   "id": "d7f1d2f2-57a1-47e9-b6ee-9be88db97819",
   "metadata": {},
   "outputs": [],
   "source": [
    "anonymizer = DataAnonymizer(df_data, sensitive_columns=sensitive_list, frequency=frequency_value)"
   ]
  },
  {
   "cell_type": "code",
   "execution_count": null,
   "id": "bf39958a-2548-4630-a781-9eee11f2cd55",
   "metadata": {},
   "outputs": [],
   "source": [
    "df_log = anonymizer.create_log()"
   ]
  },
  {
   "cell_type": "code",
   "execution_count": null,
   "id": "e02cb98d-d5a2-4658-9a87-a72870c2f69e",
   "metadata": {},
   "outputs": [],
   "source": [
    "df_log.to_excel('1CreateLog.xlsx', index=False)"
   ]
  },
  {
   "cell_type": "code",
   "execution_count": null,
   "id": "a4039452-6866-40f3-941d-7e9908990daa",
   "metadata": {},
   "outputs": [],
   "source": [
    "df_less_than_threshold = anonymizer.less_than_threshold_not_zero()"
   ]
  },
  {
   "cell_type": "code",
   "execution_count": null,
   "id": "7bce7897-a38d-4c76-a0b1-37dbc91f60b0",
   "metadata": {},
   "outputs": [],
   "source": [
    "df_less_than_threshold.to_excel('2LessThanThreshold.xlsx', index=False)"
   ]
  },
  {
   "cell_type": "code",
   "execution_count": null,
   "id": "6479a976-0f71-44f7-93c5-e6fb5da8ae0d",
   "metadata": {},
   "outputs": [],
   "source": [
    "df_one_count = anonymizer.one_count_redacted()"
   ]
  },
  {
   "cell_type": "code",
   "execution_count": null,
   "id": "414a205b-ba14-49b3-a2a0-7c26fb906aed",
   "metadata": {},
   "outputs": [],
   "source": [
    "df_one_count.to_excel('3OneCountRedact.xlsx', index=False)"
   ]
  },
  {
   "cell_type": "code",
   "execution_count": null,
   "id": "c5900aea-b7a1-418d-9f5b-2041ee1b4073",
   "metadata": {},
   "outputs": [],
   "source": [
    "df_one_redact_zero = anonymizer.one_redact_zero()"
   ]
  },
  {
   "cell_type": "code",
   "execution_count": null,
   "id": "d8384fe0-6a1f-48b3-984e-b0f611f64d56",
   "metadata": {},
   "outputs": [],
   "source": [
    "df_one_redact_zero.to_excel('4OneRedactZero.xlsx', index=False)"
   ]
  },
  {
   "cell_type": "code",
   "execution_count": null,
   "id": "f736fe40-aa3f-4f27-a784-6caeb7b921e8",
   "metadata": {},
   "outputs": [],
   "source": [
    "df_cross_suppression = anonymizer.cross_suppression()"
   ]
  },
  {
   "cell_type": "code",
   "execution_count": null,
   "id": "c68dcf1d-2485-44d5-9dca-a26086934c0d",
   "metadata": {},
   "outputs": [],
   "source": [
    "df_cross_suppression.to_excel('5CrossSuppression.xlsx', index=False)"
   ]
  },
  {
   "cell_type": "code",
   "execution_count": null,
   "id": "76a97874-629e-4d37-a1a7-9b634a3af4b6",
   "metadata": {},
   "outputs": [],
   "source": [
    "df_apply_log = anonymizer.apply_log()"
   ]
  },
  {
   "cell_type": "code",
   "execution_count": null,
   "id": "f0c1ebb6-9d30-48f3-a01a-4a2a2e53dab7",
   "metadata": {},
   "outputs": [],
   "source": [
    "df_apply_log.to_excel('6ApplyLog.xlsx', index=False)"
   ]
  },
  {
   "cell_type": "code",
   "execution_count": null,
   "id": "20e2da88-30ff-426c-b79c-fb6dd78ae0d4",
   "metadata": {},
   "outputs": [],
   "source": [
    "df_parent_redact = df_one_redact_zero[(df_one_redact_zero['Grouping'] > 0) & (df_one_redact_zero['RedactBinary'] == 1)]"
   ]
  },
  {
   "cell_type": "code",
   "execution_count": null,
   "id": "e6409d6d-8924-4aec-b0d0-bb8379815035",
   "metadata": {},
   "outputs": [],
   "source": [
    "redact_parent_name = 'RedactParentBinary'"
   ]
  },
  {
   "cell_type": "code",
   "execution_count": null,
   "id": "f6b763a1-08ee-4d7b-8ba7-a5407dbc3a18",
   "metadata": {},
   "outputs": [],
   "source": [
    "df_parent_redact.rename(columns = {'RedactBinary':redact_parent_name}, inplace=True)"
   ]
  },
  {
   "cell_type": "code",
   "execution_count": null,
   "id": "8271f3bc-be09-4fea-9d78-e23c00b3e403",
   "metadata": {},
   "outputs": [],
   "source": [
    "df_parent_redact = df_parent_redact[sensitive_list + [redact_parent_name]]"
   ]
  },
  {
   "cell_type": "code",
   "execution_count": null,
   "id": "6c763578-1a26-48a1-898a-f36e4010c9a3",
   "metadata": {},
   "outputs": [],
   "source": [
    "sensitive_combinations = sorted([combo for i in range(1, len(sensitive_list) + 1) for combo in combinations(sensitive_list, i)], key=len, reverse=True)"
   ]
  },
  {
   "cell_type": "code",
   "execution_count": null,
   "id": "bd212641-0f33-478e-b55e-6024565c3928",
   "metadata": {},
   "outputs": [],
   "source": [
    "for sensitive_combination in sensitive_combinations:\n",
    "    list_combination = list(sensitive_combination)\n",
    "    df_test = df_parent_redact[df_parent_redact[list(sensitive_combination)].notna().all(axis=1)]\n",
    "    if (list_combination != sensitive_list) & (not df_test.empty):\n",
    "        print(sensitive_combination)\n",
    "        string_combination = ''.join(list_combination)\n",
    "        df_parent_list = df_parent_redact[list(sensitive_combination) + [redact_parent_name]]\n",
    "        df_primary = df_one_redact_zero.merge(df_parent_list, on = list_combination, how='left')\n",
    "        mask = (df_primary['RedactParentBinary'] == 1) & (df_primary[\"MinimumValue\" + string_combination] == df_primary[frequency_value])\n",
    "        df_one_redact_zero.loc[mask, 'RedactBinary'] = 1\n",
    "        df_one_redact_zero.loc[mask, 'Redact'] = 'Secondary Suppression'\n",
    "        df_one_redact_zero.loc[mask, 'RedactBreakdown'] += ', Redacting based on aggregate level redaction'"
   ]
  },
  {
   "cell_type": "code",
   "execution_count": null,
   "id": "b4a4c4fc-f88f-42a4-98d2-eb1c432849ec",
   "metadata": {},
   "outputs": [],
   "source": [
    "display(df_one_redact_zero)"
   ]
  },
  {
   "cell_type": "code",
   "execution_count": null,
   "id": "e80f6923-4608-461c-b307-683b6e860239",
   "metadata": {},
   "outputs": [],
   "source": [
    "for sensitive_combination in sensitive_combinations:\n",
    "    list_combination = list(sensitive_combination)\n",
    "    if (list_combination != sensitive_list):  \n",
    "        string_combination = ''.join(list_combination)\n",
    "        df_redacted = df_one_redact_zero[(df_one_redact_zero['RedactBinary'] == 1) & (df_one_redact_zero['Grouping'] == 0)]\n",
    "        df_count = df_redacted.groupby(['Grouping'] + list(sensitive_combination))['RedactBinary'].count().reset_index()\n",
    "        df_one_count = df_count[df_count['RedactBinary'] == 1]\n",
    "        df_one_count = df_one_count[['Grouping'] + list(sensitive_combination)]\n",
    "        display(df_one_count)\n",
    "        df_one_count = df_one_redact_zero.merge(df_one_count, on =['Grouping'] + list(sensitive_combination))\n",
    "        df_one_count = df_one_count[(df_one_count['RedactBinary'] == 0)]\n",
    "        df_minimum = df_one_count.groupby(['Grouping'] + list(sensitive_combination))[frequency_value].min().reset_index()\n",
    "        df_minimum.rename(columns = {frequency_value:'CrossMinimum' + string_combination}, inplace=True)\n",
    "        df_minimum_value = df_one_redact_zero.merge(df_minimum, on =['Grouping'] + list(sensitive_combination), how='left')\n",
    "        mask = (df_minimum_value[\"CrossMinimum\" + string_combination] == df_minimum_value[frequency_value])\n",
    "        df_one_redact_zero.loc[mask, 'RedactBinary'] = 1\n",
    "        df_one_redact_zero.loc[mask, 'Redact'] = 'Secondary Suppression'\n",
    "        df_one_redact_zero.loc[mask, 'RedactBreakdown'] += ', Redacting based on aggregate level redaction'"
   ]
  },
  {
   "cell_type": "code",
   "execution_count": null,
   "id": "823edca3-cd96-42c2-a386-c4b27379df82",
   "metadata": {},
   "outputs": [],
   "source": [
    "display(df_one_redact_zero)"
   ]
  },
  {
   "cell_type": "code",
   "execution_count": null,
   "id": "9cec8ddf-e6be-486c-bb20-7bb9ad5ba0b6",
   "metadata": {},
   "outputs": [],
   "source": [
    "redact_parent_name = 'RedactParentBinary'\n",
    "df_parent_redact.rename(columns = {'RedactBinary':redact_parent_name}, inplace=True)\n",
    "df_parent_redact = df_parent_redact[[self.parent_organization] + sensitive_list + [redact_parent_name]]\n",
    "df_parent_redact.drop_duplicates(inplace=True)\n",
    "self.df_log = self.df_log.merge(df_parent_redact, on = [self.parent_organization] + self.sensitive_columns, how='left')\n",
    "self.df_log.loc[(self.df_log[redact_parent_name] == 1), 'RedactBinary'] = 1"
   ]
  },
  {
   "cell_type": "code",
   "execution_count": null,
   "id": "41cd1a40-dfa3-4a47-aca1-494694e02f4a",
   "metadata": {},
   "outputs": [],
   "source": []
  },
  {
   "cell_type": "code",
   "execution_count": null,
   "id": "1a47bd5d-663b-47be-928d-2ca12b601a91",
   "metadata": {},
   "outputs": [],
   "source": []
  },
  {
   "cell_type": "code",
   "execution_count": null,
   "id": "4d460b54-52b0-4879-898c-c47d9725b04d",
   "metadata": {},
   "outputs": [],
   "source": []
  }
 ],
 "metadata": {
  "kernelspec": {
   "display_name": "Python 3 (ipykernel)",
   "language": "python",
   "name": "python3"
  },
  "language_info": {
   "codemirror_mode": {
    "name": "ipython",
    "version": 3
   },
   "file_extension": ".py",
   "mimetype": "text/x-python",
   "name": "python",
   "nbconvert_exporter": "python",
   "pygments_lexer": "ipython3",
   "version": "3.10.9"
  }
 },
 "nbformat": 4,
 "nbformat_minor": 5
}
