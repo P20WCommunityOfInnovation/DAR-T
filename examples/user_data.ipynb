{
 "cells": [
  {
   "cell_type": "code",
   "execution_count": null,
   "id": "222896aa-50fe-4d95-9a5d-03ecf6772479",
   "metadata": {},
   "outputs": [],
   "source": []
  },
  {
   "cell_type": "code",
   "execution_count": null,
   "id": "2e7f17b0-ed69-43a1-844f-81718f4165bb",
   "metadata": {},
   "outputs": [],
   "source": [
    "import pandas as pd\n",
    "import sys\n",
    "import numpy as np\n",
    "from itertools import combinations\n",
    "pd.set_option('display.max_rows', 100)"
   ]
  },
  {
   "cell_type": "code",
   "execution_count": null,
   "id": "03e4a022-522e-44e6-8a45-dec99fd9d1d1",
   "metadata": {},
   "outputs": [],
   "source": [
    "sys.path.append('..\\\\packages')"
   ]
  },
  {
   "cell_type": "code",
   "execution_count": null,
   "id": "91864947-3c61-4483-bc94-40afa8e237ac",
   "metadata": {},
   "outputs": [],
   "source": [
    "from suppression_check import DataAnonymizer"
   ]
  },
  {
   "cell_type": "markdown",
   "id": "30240063-039e-4ae9-b5a9-22e4333cc0e6",
   "metadata": {},
   "source": [
    "# CSV file with PreRedacted Data"
   ]
  },
  {
   "cell_type": "code",
   "execution_count": null,
   "id": "f8bb3330-85bf-4b7e-983c-27d2cfe139e7",
   "metadata": {},
   "outputs": [],
   "source": [
    "file_path = r'..\\data\\UserData2.csv'"
   ]
  },
  {
   "cell_type": "markdown",
   "id": "15c71d29-3ce4-4cf6-b9aa-f3a97cadf12a",
   "metadata": {},
   "source": [
    "# Load the CSV file into a DataFrame"
   ]
  },
  {
   "cell_type": "code",
   "execution_count": null,
   "id": "a45a7ea0-c25d-4e2b-a322-369a2e458633",
   "metadata": {},
   "outputs": [],
   "source": [
    "df_data = pd.read_csv(file_path)"
   ]
  },
  {
   "cell_type": "markdown",
   "id": "701afc45-ffea-4c11-9e19-402f82a1b8bd",
   "metadata": {},
   "source": [
    "# Instantiate the anonymizer"
   ]
  },
  {
   "cell_type": "code",
   "execution_count": null,
   "id": "23e088c8-5b12-4010-bf4d-1be22b94887e",
   "metadata": {},
   "outputs": [],
   "source": [
    "sensitive_list = ['Subgroup1', 'Subgroup2']"
   ]
  },
  {
   "cell_type": "code",
   "execution_count": null,
   "id": "a4fe8184-5d15-4112-964b-bd378a93df1d",
   "metadata": {},
   "outputs": [],
   "source": [
    "frequency_value = 'Counts'"
   ]
  },
  {
   "cell_type": "code",
   "execution_count": null,
   "id": "d7f1d2f2-57a1-47e9-b6ee-9be88db97819",
   "metadata": {},
   "outputs": [],
   "source": [
    "anonymizer = DataAnonymizer(df_data, sensitive_columns=sensitive_list, frequency=frequency_value)"
   ]
  },
  {
   "cell_type": "code",
   "execution_count": null,
   "id": "bf39958a-2548-4630-a781-9eee11f2cd55",
   "metadata": {},
   "outputs": [],
   "source": [
    "df_log = anonymizer.create_log()"
   ]
  },
  {
   "cell_type": "code",
   "execution_count": null,
   "id": "e02cb98d-d5a2-4658-9a87-a72870c2f69e",
   "metadata": {},
   "outputs": [],
   "source": [
    "df_log.to_csv('Log.csv')"
   ]
  },
  {
   "cell_type": "code",
   "execution_count": null,
   "id": "a4039452-6866-40f3-941d-7e9908990daa",
   "metadata": {},
   "outputs": [],
   "source": [
    "df_less_than_threshold = anonymizer.less_than_threshold_not_zero()"
   ]
  },
  {
   "cell_type": "code",
   "execution_count": null,
   "id": "7bce7897-a38d-4c76-a0b1-37dbc91f60b0",
   "metadata": {},
   "outputs": [],
   "source": [
    "df_less_than_threshold.to_csv('LessThanThreshold.csv')"
   ]
  },
  {
   "cell_type": "code",
   "execution_count": null,
   "id": "6479a976-0f71-44f7-93c5-e6fb5da8ae0d",
   "metadata": {},
   "outputs": [],
   "source": [
    "df_one_count = anonymizer.one_count_redacted()"
   ]
  },
  {
   "cell_type": "code",
   "execution_count": null,
   "id": "414a205b-ba14-49b3-a2a0-7c26fb906aed",
   "metadata": {},
   "outputs": [],
   "source": [
    "df_one_count.to_csv('OneCountRedact.csv')"
   ]
  },
  {
   "cell_type": "code",
   "execution_count": null,
   "id": "f3fa2525-79e2-440f-a530-c292d8ed4450",
   "metadata": {},
   "outputs": [],
   "source": [
    "sensitive_combinations = sorted([combo for i in range(1, len(sensitive_list) + 1) for combo in combinations(sensitive_list, i)], key=len, reverse=True)"
   ]
  },
  {
   "cell_type": "code",
   "execution_count": null,
   "id": "bf666d4f-0810-4387-8ec4-a0f486d15b70",
   "metadata": {},
   "outputs": [],
   "source": [
    "df_one_count_na = df_one_count.copy()"
   ]
  },
  {
   "cell_type": "code",
   "execution_count": null,
   "id": "7c10e6f8-ad81-40ce-8363-da99f03b7029",
   "metadata": {},
   "outputs": [],
   "source": [
    "temp_value = 'NaFill'"
   ]
  },
  {
   "cell_type": "code",
   "execution_count": null,
   "id": "b1c526bd-b113-4c98-b720-fe889cf2b057",
   "metadata": {},
   "outputs": [],
   "source": [
    "for sensitive_column in sensitive_list:\n",
    "    df_one_count_na[sensitive_column].fillna(temp_value, inplace=True)"
   ]
  },
  {
   "cell_type": "code",
   "execution_count": null,
   "id": "692ff8d2-9148-435f-94a2-1c44a205bbe6",
   "metadata": {},
   "outputs": [],
   "source": [
    "for sensitive_combination in sensitive_combinations:\n",
    "    list_combination = list(sensitive_combination)\n",
    "    if list_combination != sensitive_list:\n",
    "        string_combination = ''.join(list_combination)\n",
    "        df_redact_less = df_one_count_na[df_one_count_na['RedactBinary'] == 1]\n",
    "        df_redact_less['Redacted'] = 1\n",
    "        df_count = df_redact_less.groupby(['Grouping'] + list_combination)['Redacted'].count().reset_index()\n",
    "        df_one_redacted = df_count[df_count['Redacted'] == 1]\n",
    "        if not df_one_redacted.empty:\n",
    "            df_not_redacted = df_one_count_na[df_one_count_na['RedactBinary'] != 1]\n",
    "            df_minimum = df_not_redacted.groupby(['Grouping'] + list_combination, dropna=False)['Counts'].min().reset_index()\n",
    "            df_minimum.rename(columns={'Counts':'LastMiniumValue'}, inplace=True)\n",
    "            df_minimum_redacted = df_one_redacted.merge(df_minimum, on = ['Grouping'] + list_combination)\n",
    "            df_minimum_one = df_one_count_na.merge(df_minimum_redacted, on = ['Grouping'] + list_combination, how='left')\n",
    "            mask = (df_minimum_one['Counts'] == df_minimum_one['LastMiniumValue'])\n",
    "            df_one_count_na.loc[mask, 'RedactBinary'] = 1\n",
    "            df_one_count_na.loc[mask, 'Redact'] = 'Secondary Suppression'\n",
    "        # df_primary = df_one_count.merge(df_redact_merge, on=['Grouping'] + list_combination, how='left')\n",
    "        # mask = (df_primary['Redacted'] > 1) & (df_primary[\"MinimumValue\" + string_combination] == df_primary[self.frequency])\n",
    "        # self.df_log.loc[mask, 'RedactBinary'] = 1\n",
    "        # self.df_log.loc[mask, 'Redact'] = 'Secondary Suppression'"
   ]
  },
  {
   "cell_type": "code",
   "execution_count": null,
   "id": "0ec5374d-6c99-4444-92dc-c16e769ad733",
   "metadata": {},
   "outputs": [],
   "source": [
    "df_not_redacted.loc[df_one_count_na['RedactBinary'] == 1, 'RedactBinary'] = 1\n",
    "df_not_redacted.loc[df_one_count_na['Redact'] == 'Secondary Suppression', 'Redact'] = 'Secondary Suppression'"
   ]
  },
  {
   "cell_type": "code",
   "execution_count": null,
   "id": "d8384fe0-6a1f-48b3-984e-b0f611f64d56",
   "metadata": {},
   "outputs": [],
   "source": [
    "df_not_redacted.to_csv('RemainingRedaction.csv')"
   ]
  },
  {
   "cell_type": "code",
   "execution_count": null,
   "id": "090a4965-97c1-4081-b920-ad0ffd9b9a57",
   "metadata": {},
   "outputs": [],
   "source": [
    "df_sum_redact = anonymizer.sum_redact()"
   ]
  },
  {
   "cell_type": "code",
   "execution_count": null,
   "id": "987574f4-e37e-475c-a2de-3c596050f5a7",
   "metadata": {},
   "outputs": [],
   "source": [
    "display(df_sum_redact)"
   ]
  },
  {
   "cell_type": "code",
   "execution_count": null,
   "id": "51b66c3a-0d7b-472e-8bfe-9c14a53db814",
   "metadata": {},
   "outputs": [],
   "source": [
    "df_zero = anonymizer.one_redact_zero()"
   ]
  },
  {
   "cell_type": "code",
   "execution_count": null,
   "id": "f089f227-98aa-4a5e-85fe-d17001fb9bef",
   "metadata": {},
   "outputs": [],
   "source": [
    "df_one_count.to_csv('OneRedactZero.csv')"
   ]
  },
  {
   "cell_type": "code",
   "execution_count": null,
   "id": "f736fe40-aa3f-4f27-a784-6caeb7b921e8",
   "metadata": {},
   "outputs": [],
   "source": [
    "df_cross_suppression = anonymizer.cross_suppression()"
   ]
  },
  {
   "cell_type": "code",
   "execution_count": null,
   "id": "bb36973c-3f85-4fcb-93fe-23bc24034e90",
   "metadata": {},
   "outputs": [],
   "source": [
    "display(df_cross_suppression)"
   ]
  },
  {
   "cell_type": "code",
   "execution_count": null,
   "id": "76a97874-629e-4d37-a1a7-9b634a3af4b6",
   "metadata": {},
   "outputs": [],
   "source": [
    "df_apply_log = anonymizer.apply_log()"
   ]
  },
  {
   "cell_type": "code",
   "execution_count": null,
   "id": "1c128878-e534-4f99-8a6b-05b2efc21a0c",
   "metadata": {},
   "outputs": [],
   "source": [
    "display(df_apply_log)"
   ]
  },
  {
   "cell_type": "code",
   "execution_count": null,
   "id": "f0c1ebb6-9d30-48f3-a01a-4a2a2e53dab7",
   "metadata": {},
   "outputs": [],
   "source": [
    "df_apply_log.to_csv('MergedTotals.csv')"
   ]
  },
  {
   "cell_type": "code",
   "execution_count": null,
   "id": "1574fc78-c99d-4652-819f-be6ce337280a",
   "metadata": {},
   "outputs": [],
   "source": []
  }
 ],
 "metadata": {
  "kernelspec": {
   "display_name": "Python 3 (ipykernel)",
   "language": "python",
   "name": "python3"
  },
  "language_info": {
   "codemirror_mode": {
    "name": "ipython",
    "version": 3
   },
   "file_extension": ".py",
   "mimetype": "text/x-python",
   "name": "python",
   "nbconvert_exporter": "python",
   "pygments_lexer": "ipython3",
   "version": "3.10.9"
  }
 },
 "nbformat": 4,
 "nbformat_minor": 5
}
