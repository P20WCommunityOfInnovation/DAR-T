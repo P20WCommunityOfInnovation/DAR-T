{
 "cells": [
  {
   "cell_type": "code",
   "execution_count": null,
   "id": "bd117abe-b429-4203-a4f9-85836e4d1151",
   "metadata": {},
   "outputs": [],
   "source": []
  },
  {
   "cell_type": "code",
   "execution_count": null,
   "id": "e3fb8d9a",
   "metadata": {},
   "outputs": [],
   "source": [
    "import pandas as pd\n",
    "import sys\n",
    "from itertools import combinations"
   ]
  },
  {
   "cell_type": "code",
   "execution_count": null,
   "id": "4b8ff24b-869a-4aee-94da-65c4f0d711e5",
   "metadata": {},
   "outputs": [],
   "source": [
    "sys.path.append('..\\\\packages')"
   ]
  },
  {
   "cell_type": "code",
   "execution_count": null,
   "id": "e9132aeb-292c-4ea1-bd0f-c8e5fc6a1529",
   "metadata": {},
   "outputs": [],
   "source": [
    "from suppression_check import DataAnonymizer"
   ]
  },
  {
   "cell_type": "markdown",
   "id": "ea604cb5-5e96-4134-9e84-776c7435521e",
   "metadata": {},
   "source": [
    "# Corrected relative path to the CSV file"
   ]
  },
  {
   "cell_type": "code",
   "execution_count": null,
   "id": "aea88987-0d6e-43a1-89b2-e199281c5d79",
   "metadata": {},
   "outputs": [],
   "source": [
    "file_path = r'..\\data\\TwoSensitiveOverlapVerseLess2.csv'"
   ]
  },
  {
   "cell_type": "markdown",
   "id": "8edf3015-7747-49f1-806c-1dd5bf5a70c2",
   "metadata": {},
   "source": [
    "# Load the CSV file into a DataFrame"
   ]
  },
  {
   "cell_type": "code",
   "execution_count": null,
   "id": "59199a5e",
   "metadata": {},
   "outputs": [],
   "source": [
    "df_data = pd.read_csv(file_path)"
   ]
  },
  {
   "cell_type": "code",
   "execution_count": null,
   "id": "55de0d6a-482c-47a2-bdd6-16b733ae7a7a",
   "metadata": {},
   "outputs": [],
   "source": [
    "sensitive_list = ['Subgroup1', 'Subgroup2']"
   ]
  },
  {
   "cell_type": "markdown",
   "id": "ffcf4ecb-a0ed-4790-a507-c4404423e2ee",
   "metadata": {},
   "source": [
    "# Instantiate the anonymizer"
   ]
  },
  {
   "cell_type": "code",
   "execution_count": null,
   "id": "2a500c30-d0fb-4402-8668-c020368150a8",
   "metadata": {},
   "outputs": [],
   "source": [
    "anonymizer = DataAnonymizer(df_data, sensitive_columns=sensitive_list, frequency='Counts', minimum_threshold=9)"
   ]
  },
  {
   "cell_type": "code",
   "execution_count": null,
   "id": "dc6fbde5-47c5-41ec-800e-fa623afc63d6",
   "metadata": {},
   "outputs": [],
   "source": [
    "df_log = anonymizer.create_log()"
   ]
  },
  {
   "cell_type": "code",
   "execution_count": null,
   "id": "41a05bd0-96b6-448d-9437-39c021f26ef3",
   "metadata": {},
   "outputs": [],
   "source": [
    "df_log.to_excel('1CreateLog.xlsx', index=False)"
   ]
  },
  {
   "cell_type": "markdown",
   "id": "9d48f8db-2dad-4f9d-99cc-fa42ff9acaa8",
   "metadata": {},
   "source": [
    "# Less Than Threshold "
   ]
  },
  {
   "cell_type": "code",
   "execution_count": null,
   "id": "06b9a8c4-8072-41dc-a521-b53a55a444c2",
   "metadata": {},
   "outputs": [],
   "source": [
    "df_less_than_threshold = anonymizer.less_than_threshold_not_zero()"
   ]
  },
  {
   "cell_type": "code",
   "execution_count": null,
   "id": "10f6d072-012f-4c51-8171-4df2983182a0",
   "metadata": {},
   "outputs": [],
   "source": [
    "df_less_than_threshold.to_excel('2LessThanThreshold.xlsx', index=False)"
   ]
  },
  {
   "cell_type": "markdown",
   "id": "7213e55c-7bf7-4ebc-a7b5-fdbead7afe05",
   "metadata": {},
   "source": [
    "# Apply Redact Threshold"
   ]
  },
  {
   "cell_type": "code",
   "execution_count": null,
   "id": "865e0b6c-9f06-4f27-bee1-85229352b3e8",
   "metadata": {},
   "outputs": [],
   "source": [
    "df_less_than_threshold.loc[:, 'Overlapping'] = 0\n",
    "\n",
    "# Loop through each sensitive column to check for overlapping sensitive information\n",
    "for sensitive_column in sensitive_list:\n",
    "    list_sensitive = df_less_than_threshold[df_less_than_threshold['RedactBinary'] == 1][sensitive_column].unique()\n",
    "    mask = df_less_than_threshold[sensitive_column].isin(list_sensitive) & (df_less_than_threshold['RedactBinary'] != 1)\n",
    "    df_less_than_threshold.loc[mask, 'Overlapping'] += 1\n",
    "if max(list(df_less_than_threshold['Overlapping'].unique())) == 1:\n",
    "    df_less_than_threshold = anonymizer.one_count_redacted()\n",
    "    display(df_less_than_threshold)\n",
    "    df_less_than_threshold.loc[:, 'Overlapping'] = 0\n",
    "    for sensitive_column in sensitive_list:\n",
    "        list_sensitive = df_less_than_threshold[df_less_than_threshold['RedactBinary'] == 1][sensitive_column].unique()\n",
    "        mask = df_less_than_threshold[sensitive_column].isin(list_sensitive) & (df_less_than_threshold['RedactBinary'] != 1)\n",
    "        df_less_than_threshold.loc[mask, 'Overlapping'] += 1\n",
    "display(df_less_than_threshold)"
   ]
  },
  {
   "cell_type": "code",
   "execution_count": null,
   "id": "10d12ae0-de96-44da-95a1-6174895a77d8",
   "metadata": {},
   "outputs": [],
   "source": [
    "df_redact_threshold = anonymizer.redact_threshold()"
   ]
  },
  {
   "cell_type": "code",
   "execution_count": null,
   "id": "1ec354f2-edc6-4ccc-b182-f012f4a78599",
   "metadata": {},
   "outputs": [],
   "source": [
    "df_redact_threshold.to_excel('3RedactThreshold.xlsx', index=False)"
   ]
  },
  {
   "cell_type": "code",
   "execution_count": null,
   "id": "b9680363-d430-49b3-bd6f-4a5e7635a20a",
   "metadata": {},
   "outputs": [],
   "source": [
    "df_apply_log = anonymizer.apply_log()"
   ]
  },
  {
   "cell_type": "code",
   "execution_count": null,
   "id": "8b81f612-5e93-4edb-946a-dd74cf64fd3a",
   "metadata": {},
   "outputs": [],
   "source": [
    "df_apply_log.to_excel('4ApplyLog.xlsx', index=False)"
   ]
  },
  {
   "cell_type": "code",
   "execution_count": null,
   "id": "c186cc15-d79c-48fb-b0fe-07c6885dbf7a",
   "metadata": {},
   "outputs": [],
   "source": []
  }
 ],
 "metadata": {
  "kernelspec": {
   "display_name": "Python 3 (ipykernel)",
   "language": "python",
   "name": "python3"
  },
  "language_info": {
   "codemirror_mode": {
    "name": "ipython",
    "version": 3
   },
   "file_extension": ".py",
   "mimetype": "text/x-python",
   "name": "python",
   "nbconvert_exporter": "python",
   "pygments_lexer": "ipython3",
   "version": "3.10.9"
  }
 },
 "nbformat": 4,
 "nbformat_minor": 5
}
