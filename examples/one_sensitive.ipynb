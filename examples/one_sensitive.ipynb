{
 "cells": [
  {
   "cell_type": "code",
   "execution_count": null,
   "id": "222896aa-50fe-4d95-9a5d-03ecf6772479",
   "metadata": {},
   "outputs": [],
   "source": []
  },
  {
   "cell_type": "code",
   "execution_count": null,
   "id": "2e7f17b0-ed69-43a1-844f-81718f4165bb",
   "metadata": {},
   "outputs": [],
   "source": [
    "import pandas as pd\n",
    "import sys\n",
    "import numpy as np\n",
    "from itertools import combinations\n",
    "pd.set_option('display.max_rows', 100)"
   ]
  },
  {
   "cell_type": "code",
   "execution_count": null,
   "id": "03e4a022-522e-44e6-8a45-dec99fd9d1d1",
   "metadata": {},
   "outputs": [],
   "source": [
    "sys.path.append('..\\\\packages')"
   ]
  },
  {
   "cell_type": "code",
   "execution_count": null,
   "id": "91864947-3c61-4483-bc94-40afa8e237ac",
   "metadata": {},
   "outputs": [],
   "source": [
    "from suppression_check import DataAnonymizer"
   ]
  },
  {
   "cell_type": "markdown",
   "id": "30240063-039e-4ae9-b5a9-22e4333cc0e6",
   "metadata": {},
   "source": [
    "# CSV file with PreRedacted Data"
   ]
  },
  {
   "cell_type": "code",
   "execution_count": null,
   "id": "f8bb3330-85bf-4b7e-983c-27d2cfe139e7",
   "metadata": {},
   "outputs": [],
   "source": [
    "file_path = r'..\\data\\OneSensitive.csv'"
   ]
  },
  {
   "cell_type": "markdown",
   "id": "15c71d29-3ce4-4cf6-b9aa-f3a97cadf12a",
   "metadata": {},
   "source": [
    "# Load the CSV file into a DataFrame"
   ]
  },
  {
   "cell_type": "code",
   "execution_count": null,
   "id": "a45a7ea0-c25d-4e2b-a322-369a2e458633",
   "metadata": {},
   "outputs": [],
   "source": [
    "df_data = pd.read_csv(file_path)"
   ]
  },
  {
   "cell_type": "markdown",
   "id": "701afc45-ffea-4c11-9e19-402f82a1b8bd",
   "metadata": {},
   "source": [
    "# Instantiate the anonymizer"
   ]
  },
  {
   "cell_type": "code",
   "execution_count": null,
   "id": "23e088c8-5b12-4010-bf4d-1be22b94887e",
   "metadata": {},
   "outputs": [],
   "source": [
    "sensitive_list = ['Subgroup']"
   ]
  },
  {
   "cell_type": "code",
   "execution_count": null,
   "id": "a4fe8184-5d15-4112-964b-bd378a93df1d",
   "metadata": {},
   "outputs": [],
   "source": [
    "frequency_value = 'Counts'"
   ]
  },
  {
   "cell_type": "code",
   "execution_count": null,
   "id": "d7f1d2f2-57a1-47e9-b6ee-9be88db97819",
   "metadata": {},
   "outputs": [],
   "source": [
    "anonymizer = DataAnonymizer(df_data, sensitive_columns=sensitive_list, frequency=frequency_value, redact_value='Redact Value')"
   ]
  },
  {
   "cell_type": "code",
   "execution_count": null,
   "id": "bf39958a-2548-4630-a781-9eee11f2cd55",
   "metadata": {},
   "outputs": [],
   "source": [
    "df_log = anonymizer.create_log()"
   ]
  },
  {
   "cell_type": "code",
   "execution_count": null,
   "id": "e02cb98d-d5a2-4658-9a87-a72870c2f69e",
   "metadata": {},
   "outputs": [],
   "source": [
    "df_log"
   ]
  },
  {
   "cell_type": "code",
   "execution_count": null,
   "id": "a4039452-6866-40f3-941d-7e9908990daa",
   "metadata": {},
   "outputs": [],
   "source": [
    "df_less_than_threshold = anonymizer.less_than_threshold()"
   ]
  },
  {
   "cell_type": "code",
   "execution_count": null,
   "id": "7bce7897-a38d-4c76-a0b1-37dbc91f60b0",
   "metadata": {},
   "outputs": [],
   "source": [
    "df_less_than_threshold"
   ]
  },
  {
   "cell_type": "code",
   "execution_count": null,
   "id": "731ed2b4-6007-49bc-88f4-bb50d3040f3d",
   "metadata": {},
   "outputs": [],
   "source": [
    "df_sum_redact = anonymizer.sum_redact()"
   ]
  },
  {
   "cell_type": "code",
   "execution_count": null,
   "id": "7ff3845f-14f3-44dc-b79f-e650e16226bb",
   "metadata": {},
   "outputs": [],
   "source": [
    "df_sum_redact"
   ]
  },
  {
   "cell_type": "code",
   "execution_count": null,
   "id": "75d8bf8c-f4ff-4541-bc3e-776da2872ad1",
   "metadata": {},
   "outputs": [],
   "source": [
    "df_one_count = anonymizer.one_count_redacted()"
   ]
  },
  {
   "cell_type": "code",
   "execution_count": null,
   "id": "8b593af2-b031-4f93-80ae-0c2526ba263e",
   "metadata": {},
   "outputs": [],
   "source": [
    "df_one_count"
   ]
  },
  {
   "cell_type": "code",
   "execution_count": null,
   "id": "6d574fd7-f022-49ed-8b83-034acaec7cf5",
   "metadata": {},
   "outputs": [],
   "source": [
    "df_one_redact_zero = anonymizer.one_redact_zero()"
   ]
  },
  {
   "cell_type": "code",
   "execution_count": null,
   "id": "620743fc-81d0-45e0-8208-ce95bfe288ad",
   "metadata": {},
   "outputs": [],
   "source": [
    "df_one_redact_zero"
   ]
  },
  {
   "cell_type": "code",
   "execution_count": null,
   "id": "47dafee7-c7c9-4283-a4f4-311871fcfc0f",
   "metadata": {},
   "outputs": [],
   "source": [
    "df_cross_suppression = anonymizer.cross_suppression()"
   ]
  },
  {
   "cell_type": "code",
   "execution_count": null,
   "id": "8c13503d-8f29-49d7-b840-c8eef06c3e0e",
   "metadata": {},
   "outputs": [],
   "source": [
    "df_cross_suppression"
   ]
  },
  {
   "cell_type": "code",
   "execution_count": null,
   "id": "76a97874-629e-4d37-a1a7-9b634a3af4b6",
   "metadata": {},
   "outputs": [],
   "source": [
    "df_apply_log = anonymizer.apply_log()"
   ]
  },
  {
   "cell_type": "code",
   "execution_count": null,
   "id": "f0c1ebb6-9d30-48f3-a01a-4a2a2e53dab7",
   "metadata": {},
   "outputs": [],
   "source": [
    "df_apply_log"
   ]
  }
 ],
 "metadata": {
  "kernelspec": {
   "display_name": "Python 3 (ipykernel)",
   "language": "python",
   "name": "python3"
  },
  "language_info": {
   "codemirror_mode": {
    "name": "ipython",
    "version": 3
   },
   "file_extension": ".py",
   "mimetype": "text/x-python",
   "name": "python",
   "nbconvert_exporter": "python",
   "pygments_lexer": "ipython3",
   "version": "3.10.13"
  }
 },
 "nbformat": 4,
 "nbformat_minor": 5
}
