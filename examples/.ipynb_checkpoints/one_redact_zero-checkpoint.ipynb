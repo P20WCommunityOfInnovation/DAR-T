{
 "cells": [
  {
   "cell_type": "code",
   "execution_count": null,
   "id": "e3fb8d9a",
   "metadata": {},
   "outputs": [],
   "source": [
    "import pandas as pd\n",
    "import sys"
   ]
  },
  {
   "cell_type": "code",
   "execution_count": null,
   "id": "4b8ff24b-869a-4aee-94da-65c4f0d711e5",
   "metadata": {},
   "outputs": [],
   "source": [
    "sys.path.append('..\\\\packages')"
   ]
  },
  {
   "cell_type": "code",
   "execution_count": null,
   "id": "e9132aeb-292c-4ea1-bd0f-c8e5fc6a1529",
   "metadata": {},
   "outputs": [],
   "source": [
    "from suppression_check import DataAnonymizer"
   ]
  },
  {
   "cell_type": "markdown",
   "id": "7ce06fb9-c12d-46bb-8b4e-f78587ccf2f5",
   "metadata": {},
   "source": [
    "# CSV file with PreRedacted Data"
   ]
  },
  {
   "cell_type": "code",
   "execution_count": null,
   "id": "a9279ab9-1e69-4c0c-90b5-7bb4945791a2",
   "metadata": {},
   "outputs": [],
   "source": [
    "file_path = r'..\\data\\PrePrimaryRedactedGender.csv'"
   ]
  },
  {
   "cell_type": "markdown",
   "id": "74ddc73a-48ee-491d-a5dd-522110831a63",
   "metadata": {},
   "source": [
    "# Load the CSV file into a DataFrame"
   ]
  },
  {
   "cell_type": "code",
   "execution_count": null,
   "id": "a94c6a05-937f-4dff-a8cf-b64ce4ebdc2d",
   "metadata": {},
   "outputs": [],
   "source": [
    "df_data = pd.read_csv(file_path)\n",
    "display(df_data)"
   ]
  },
  {
   "cell_type": "markdown",
   "id": "d27579d2-3c86-4e12-a200-66ee0a5b54d0",
   "metadata": {},
   "source": [
    "# Instantiate the anonymizer"
   ]
  },
  {
   "cell_type": "code",
   "execution_count": null,
   "id": "ae41134b-499b-4bbe-be62-9672712a00f6",
   "metadata": {},
   "outputs": [],
   "source": [
    "anonymizer = DataAnonymizer(df_data, sensitive_columns=['Subgroup'], organization_columns=['Organization'], frequency='Counts')"
   ]
  },
  {
   "cell_type": "markdown",
   "id": "9e20879e-1165-4cb5-b69a-a6f42e6d92c4",
   "metadata": {},
   "source": [
    "# Less Than Threshold "
   ]
  },
  {
   "cell_type": "code",
   "execution_count": null,
   "id": "81144ee5-8612-4928-b405-2b433871aeef",
   "metadata": {},
   "outputs": [],
   "source": [
    "anonymizer.less_than_threshold_not_zero()"
   ]
  },
  {
   "cell_type": "markdown",
   "id": "a768f187-76c2-4e85-adc3-785990d37402",
   "metadata": {},
   "source": [
    "# Apply Sum Redact"
   ]
  },
  {
   "cell_type": "code",
   "execution_count": null,
   "id": "ac9273f7-a9c3-4b15-867a-aaf9dd8d1920",
   "metadata": {},
   "outputs": [],
   "source": [
    "df_sum_redact = anonymizer.one_redact_zero()\n",
    "display(df_sum_redact)"
   ]
  },
  {
   "cell_type": "code",
   "execution_count": null,
   "id": "2fd5a406",
   "metadata": {},
   "outputs": [],
   "source": []
  },
  {
   "cell_type": "code",
   "execution_count": null,
   "id": "4567b28a",
   "metadata": {},
   "outputs": [],
   "source": []
  }
 ],
 "metadata": {
  "kernelspec": {
   "display_name": "Python 3 (ipykernel)",
   "language": "python",
   "name": "python3"
  },
  "language_info": {
   "codemirror_mode": {
    "name": "ipython",
    "version": 3
   },
   "file_extension": ".py",
   "mimetype": "text/x-python",
   "name": "python",
   "nbconvert_exporter": "python",
   "pygments_lexer": "ipython3",
   "version": "3.10.9"
  }
 },
 "nbformat": 4,
 "nbformat_minor": 5
}
