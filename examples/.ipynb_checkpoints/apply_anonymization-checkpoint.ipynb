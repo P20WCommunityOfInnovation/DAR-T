{
 "cells": [
  {
   "cell_type": "markdown",
   "id": "fe0793ce-2b4a-4adb-9833-abb95b2daa6a",
   "metadata": {},
   "source": [
    "# "
   ]
  },
  {
   "cell_type": "code",
   "execution_count": null,
   "id": "41ba4f39",
   "metadata": {},
   "outputs": [],
   "source": [
    "import pandas as pd\n",
    "import sys"
   ]
  },
  {
   "cell_type": "code",
   "execution_count": null,
   "id": "abdb66f3",
   "metadata": {},
   "outputs": [],
   "source": [
    "sys.path.append('..\\\\packages')"
   ]
  },
  {
   "cell_type": "code",
   "execution_count": null,
   "id": "ee8cabc5",
   "metadata": {},
   "outputs": [],
   "source": [
    "from suppression_check import DataAnonymizer"
   ]
  },
  {
   "cell_type": "markdown",
   "id": "d6f9bff4",
   "metadata": {},
   "source": [
    "# Corrected relative path to the CSV file"
   ]
  },
  {
   "cell_type": "code",
   "execution_count": null,
   "id": "21807461",
   "metadata": {},
   "outputs": [],
   "source": [
    "file_path = r'..\\data\\TestingData.csv'"
   ]
  },
  {
   "cell_type": "markdown",
   "id": "38203d9b",
   "metadata": {},
   "source": [
    "# Load the CSV file into a DataFrame"
   ]
  },
  {
   "cell_type": "code",
   "execution_count": null,
   "id": "b384c86a",
   "metadata": {},
   "outputs": [],
   "source": [
    "df_data = pd.read_csv(file_path)"
   ]
  },
  {
   "cell_type": "markdown",
   "id": "087c599b",
   "metadata": {},
   "source": [
    "# Instantiate the anonymizer"
   ]
  },
  {
   "cell_type": "code",
   "execution_count": null,
   "id": "66dde75d-d1a0-437f-8993-c12fde47f4fd",
   "metadata": {},
   "outputs": [],
   "source": [
    "parent_org = 'ParentEntity'"
   ]
  },
  {
   "cell_type": "code",
   "execution_count": null,
   "id": "1ec347fb-f3e4-4dfd-ab22-c64801609c56",
   "metadata": {},
   "outputs": [],
   "source": [
    "child_org = 'ChildEntity'"
   ]
  },
  {
   "cell_type": "code",
   "execution_count": null,
   "id": "e87ca135-fd15-4973-9009-38c62e0b6b1b",
   "metadata": {},
   "outputs": [],
   "source": [
    "sensitive_list = ['Subgroup1', 'Subgroup2']"
   ]
  },
  {
   "cell_type": "code",
   "execution_count": null,
   "id": "a4a7c53c-a9e8-4a10-8975-c01ecb2a217b",
   "metadata": {},
   "outputs": [],
   "source": [
    "frequency_value = 'GraduationCount'"
   ]
  },
  {
   "cell_type": "code",
   "execution_count": null,
   "id": "e728b0da-4f50-4b61-934b-e382301019b7",
   "metadata": {},
   "outputs": [],
   "source": [
    "anonymizer = DataAnonymizer(df_data, parent_organization=parent_org, child_organization = child_org, sensitive_columns=sensitive_list, \n",
    "                            frequency=frequency_value, redact_column= 'UserRedaction', redact_zero = True)"
   ]
  },
  {
   "cell_type": "markdown",
   "id": "d9e33a44",
   "metadata": {},
   "source": [
    "# Apply Anonymization"
   ]
  },
  {
   "cell_type": "code",
   "execution_count": null,
   "id": "7cbb3c52",
   "metadata": {},
   "outputs": [],
   "source": [
    "df_apply_anonymization = anonymizer.apply_anonymization()"
   ]
  },
  {
   "cell_type": "code",
   "execution_count": null,
   "id": "7ca818cf-8c55-41ed-b985-8d2455c1b04f",
   "metadata": {},
   "outputs": [],
   "source": [
    "df_apply_anonymization[(df_apply_anonymization['UserRedact'] == 1) & (df_apply_anonymization['Redact'] == 'User-requested redaction')]"
   ]
  },
  {
   "cell_type": "code",
   "execution_count": null,
   "id": "be98a6ce-b23d-46ad-b745-a538418fa267",
   "metadata": {},
   "outputs": [],
   "source": [
    "df_apply_anonymization[(df_apply_anonymization['UserRedact'] == 1) & (df_apply_anonymization['RedactBreakdown'] == 'User-requested redaction')]"
   ]
  },
  {
   "cell_type": "code",
   "execution_count": null,
   "id": "5c0483a5",
   "metadata": {},
   "outputs": [],
   "source": [
    "display(df_apply_anonymization)"
   ]
  },
  {
   "cell_type": "code",
   "execution_count": null,
   "id": "f4da5f3b-0fd3-4be6-8a8b-60dbbe51b298",
   "metadata": {},
   "outputs": [],
   "source": []
  },
  {
   "cell_type": "code",
   "execution_count": null,
   "id": "09058575-bdaa-4df6-9ec0-6b03be6027b1",
   "metadata": {},
   "outputs": [],
   "source": []
  },
  {
   "cell_type": "code",
   "execution_count": null,
   "id": "24e897ea-206b-4589-a5df-858490db32c8",
   "metadata": {},
   "outputs": [],
   "source": []
  },
  {
   "cell_type": "code",
   "execution_count": null,
   "id": "8c136642-5866-4cfd-b018-27cfff4ec741",
   "metadata": {},
   "outputs": [],
   "source": []
  },
  {
   "cell_type": "code",
   "execution_count": null,
   "id": "2b12818e-3f00-4a87-9a8d-a4495d6b23f7",
   "metadata": {},
   "outputs": [],
   "source": []
  },
  {
   "cell_type": "code",
   "execution_count": null,
   "id": "ea8e939f-43bb-429f-a65d-32221513a519",
   "metadata": {},
   "outputs": [],
   "source": []
  },
  {
   "cell_type": "code",
   "execution_count": null,
   "id": "52f234f1-100e-4ad6-954e-711790d28fcd",
   "metadata": {},
   "outputs": [],
   "source": []
  }
 ],
 "metadata": {
  "interpreter": {
   "hash": "5238573367df39f7286bb46f9ff5f08f63a01a80960060ce41e3c79b190280fa"
  },
  "kernelspec": {
   "display_name": "Python 3 (ipykernel)",
   "language": "python",
   "name": "python3"
  },
  "language_info": {
   "codemirror_mode": {
    "name": "ipython",
    "version": 3
   },
   "file_extension": ".py",
   "mimetype": "text/x-python",
   "name": "python",
   "nbconvert_exporter": "python",
   "pygments_lexer": "ipython3",
   "version": "3.10.13"
  }
 },
 "nbformat": 4,
 "nbformat_minor": 5
}
