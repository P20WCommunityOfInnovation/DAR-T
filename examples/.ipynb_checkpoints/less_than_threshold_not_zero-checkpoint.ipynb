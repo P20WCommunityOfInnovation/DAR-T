{
 "cells": [
  {
   "cell_type": "code",
   "execution_count": null,
   "id": "e3fb8d9a",
   "metadata": {},
   "outputs": [],
   "source": [
    "import pandas as pd\n",
    "import sys"
   ]
  },
  {
   "cell_type": "code",
   "execution_count": null,
   "id": "4b8ff24b-869a-4aee-94da-65c4f0d711e5",
   "metadata": {},
   "outputs": [],
   "source": [
    "sys.path.append('..\\\\packages')"
   ]
  },
  {
   "cell_type": "code",
   "execution_count": null,
   "id": "e9132aeb-292c-4ea1-bd0f-c8e5fc6a1529",
   "metadata": {},
   "outputs": [],
   "source": [
    "from suppression_check import DataAnonymizer"
   ]
  },
  {
   "cell_type": "markdown",
   "id": "ea604cb5-5e96-4134-9e84-776c7435521e",
   "metadata": {},
   "source": [
    "# Corrected relative path to the CSV file"
   ]
  },
  {
   "cell_type": "code",
   "execution_count": null,
   "id": "aea88987-0d6e-43a1-89b2-e199281c5d79",
   "metadata": {},
   "outputs": [],
   "source": [
    "file_path = r'..\\data\\Gender.csv'"
   ]
  },
  {
   "cell_type": "markdown",
   "id": "8edf3015-7747-49f1-806c-1dd5bf5a70c2",
   "metadata": {},
   "source": [
    "# Load the CSV file into a DataFrame"
   ]
  },
  {
   "cell_type": "code",
   "execution_count": null,
   "id": "59199a5e",
   "metadata": {},
   "outputs": [],
   "source": [
    "df_data = pd.read_csv(file_path)\n",
    "display(df_data)"
   ]
  },
  {
   "cell_type": "markdown",
   "id": "ffcf4ecb-a0ed-4790-a507-c4404423e2ee",
   "metadata": {},
   "source": [
    "# Instantiate the anonymizer"
   ]
  },
  {
   "cell_type": "code",
   "execution_count": null,
   "id": "2a500c30-d0fb-4402-8668-c020368150a8",
   "metadata": {},
   "outputs": [],
   "source": [
    "anonymizer = DataAnonymizer(df_data, sensitive_columns=['Subgroup'], frequency='Counts')"
   ]
  },
  {
   "cell_type": "markdown",
   "id": "7213e55c-7bf7-4ebc-a7b5-fdbead7afe05",
   "metadata": {},
   "source": [
    "# Apply Redact Threshold"
   ]
  },
  {
   "cell_type": "code",
   "execution_count": null,
   "id": "10d12ae0-de96-44da-95a1-6174895a77d8",
   "metadata": {},
   "outputs": [],
   "source": [
    "df_redact_threshold = anonymizer.less_than_threshold_not_zero()\n",
    "display(df_redact_threshold)"
   ]
  },
  {
   "cell_type": "code",
   "execution_count": null,
   "id": "ffa25ea8-fe80-4750-b7dc-6919352662e6",
   "metadata": {},
   "outputs": [],
   "source": []
  }
 ],
 "metadata": {
  "kernelspec": {
   "display_name": "Python 3 (ipykernel)",
   "language": "python",
   "name": "python3"
  },
  "language_info": {
   "codemirror_mode": {
    "name": "ipython",
    "version": 3
   },
   "file_extension": ".py",
   "mimetype": "text/x-python",
   "name": "python",
   "nbconvert_exporter": "python",
   "pygments_lexer": "ipython3",
   "version": "3.10.9"
  }
 },
 "nbformat": 4,
 "nbformat_minor": 5
}
