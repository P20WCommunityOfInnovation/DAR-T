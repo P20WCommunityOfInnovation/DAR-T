{
 "cells": [
  {
   "cell_type": "code",
   "execution_count": null,
   "id": "382b7e31-dede-4270-8143-d94904ce5633",
   "metadata": {},
   "outputs": [],
   "source": []
  },
  {
   "cell_type": "code",
   "execution_count": null,
   "id": "52d25e64-de2f-4df9-a7d5-09c2238b88cc",
   "metadata": {},
   "outputs": [],
   "source": [
    "import pandas as pd\n",
    "import sys"
   ]
  },
  {
   "cell_type": "code",
   "execution_count": null,
   "id": "567b7456-47c3-4141-ab14-30328260ecc5",
   "metadata": {},
   "outputs": [],
   "source": [
    "sys.path.append('..\\\\packages')"
   ]
  },
  {
   "cell_type": "code",
   "execution_count": null,
   "id": "eb378d5c-4dbc-4444-b858-6230794d3c75",
   "metadata": {},
   "outputs": [],
   "source": [
    "from suppression_check import DataAnonymizer"
   ]
  },
  {
   "cell_type": "markdown",
   "id": "7ce06fb9-c12d-46bb-8b4e-f78587ccf2f5",
   "metadata": {},
   "source": [
    "# CSV file with PreRedacted Data"
   ]
  },
  {
   "cell_type": "code",
   "execution_count": null,
   "id": "a9279ab9-1e69-4c0c-90b5-7bb4945791a2",
   "metadata": {},
   "outputs": [],
   "source": [
    "file_path = r'..\\data\\PrePrimaryRedactedGender.csv'"
   ]
  },
  {
   "cell_type": "markdown",
   "id": "74ddc73a-48ee-491d-a5dd-522110831a63",
   "metadata": {},
   "source": [
    "# Load the CSV file into a DataFrame"
   ]
  },
  {
   "cell_type": "code",
   "execution_count": null,
   "id": "a94c6a05-937f-4dff-a8cf-b64ce4ebdc2d",
   "metadata": {},
   "outputs": [],
   "source": [
    "df_data = pd.read_csv(file_path)\n",
    "display(df_data)"
   ]
  },
  {
   "cell_type": "markdown",
   "id": "d27579d2-3c86-4e12-a200-66ee0a5b54d0",
   "metadata": {},
   "source": [
    "# Instantiate the anonymizer"
   ]
  },
  {
   "cell_type": "code",
   "execution_count": null,
   "id": "ae41134b-499b-4bbe-be62-9672712a00f6",
   "metadata": {},
   "outputs": [],
   "source": [
    "anonymizer = DataAnonymizer(df_data, organization_columns=['Organization'], sensitive_columns=['Subgroup'], frequency='Counts')"
   ]
  },
  {
   "cell_type": "markdown",
   "id": "a768f187-76c2-4e85-adc3-785990d37402",
   "metadata": {},
   "source": [
    "# Apply Sum Redact"
   ]
  },
  {
   "cell_type": "code",
   "execution_count": null,
   "id": "ac9273f7-a9c3-4b15-867a-aaf9dd8d1920",
   "metadata": {},
   "outputs": [],
   "source": [
    "df_sum_redact = anonymizer.one_count_redacted()\n",
    "display(df_sum_redact)"
   ]
  },
  {
   "cell_type": "code",
   "execution_count": null,
   "id": "2fd5a406",
   "metadata": {},
   "outputs": [],
   "source": []
  },
  {
   "cell_type": "code",
   "execution_count": null,
   "id": "4567b28a",
   "metadata": {},
   "outputs": [],
   "source": []
  }
 ],
 "metadata": {
  "kernelspec": {
   "display_name": "Python 3 (ipykernel)",
   "language": "python",
   "name": "python3"
  },
  "language_info": {
   "codemirror_mode": {
    "name": "ipython",
    "version": 3
   },
   "file_extension": ".py",
   "mimetype": "text/x-python",
   "name": "python",
   "nbconvert_exporter": "python",
   "pygments_lexer": "ipython3",
   "version": "3.10.9"
  }
 },
 "nbformat": 4,
 "nbformat_minor": 5
}
