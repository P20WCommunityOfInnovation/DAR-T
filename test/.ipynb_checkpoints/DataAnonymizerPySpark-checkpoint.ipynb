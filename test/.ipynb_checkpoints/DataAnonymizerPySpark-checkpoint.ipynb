{
 "cells": [
  {
   "cell_type": "code",
   "execution_count": null,
   "id": "1c8cc047-5478-4aca-a3c7-30aeccbce051",
   "metadata": {},
   "outputs": [],
   "source": [
    "from pyspark.sql import SparkSession\n",
    "from pyspark.sql import functions as F\n",
    "from scipy.stats import entropy"
   ]
  },
  {
   "cell_type": "code",
   "execution_count": null,
   "id": "c9f63d6f-092c-4462-aa5b-fa065ded7ab6",
   "metadata": {},
   "outputs": [],
   "source": [
    "class DataAnonymizer:\n",
    "    def __init__(self, df):\n",
    "        self.df = df\n",
    "\n",
    "    def k_anonymity(self, quasi_identifiers, k=2):\n",
    "        grouped_df = self.df.groupBy(quasi_identifiers).count()\n",
    "        valid_groups = grouped_df.filter(F.col('count') >= k)\n",
    "        self.df = self.df.join(valid_groups.select(quasi_identifiers), on=quasi_identifiers, how='inner')\n",
    "        \n",
    "    def l_diversity(self, quasi_identifiers, sensitive_column, l=2):\n",
    "        grouped_df = self.df.groupBy(quasi_identifiers + [sensitive_column]).count()\n",
    "        diversity_count = grouped_df.groupBy(quasi_identifiers).agg(F.countDistinct(sensitive_column).alias('l_diversity'))\n",
    "        valid_groups = diversity_count.filter(F.col('l_diversity') >= l)\n",
    "        self.df = self.df.join(valid_groups.select(quasi_identifiers), on=quasi_identifiers, how='inner')\n",
    "        \n",
    "    def t_closeness(self, quasi_identifiers, sensitive_column, t=0.2):\n",
    "        total_count = self.df.count()\n",
    "        overall_dist = self.df.groupBy(sensitive_column).count().withColumn('global_prob', F.col('count') / total_count)\n",
    "\n",
    "        def calculate_entropy(group):\n",
    "            local_count = group.count()\n",
    "            local_dist = group.groupBy(sensitive_column).count().withColumn('local_prob', F.col('count') / local_count)\n",
    "            joined_dist = local_dist.join(overall_dist, on=sensitive_column)\n",
    "            joined_dist = joined_dist.withColumn('abs_diff', F.abs(joined_dist.local_prob - joined_dist.global_prob))\n",
    "            max_diff = joined_dist.agg(F.max('abs_diff')).collect()[0][0]\n",
    "            return max_diff <= t\n",
    "\n",
    "        grouped_df = self.df.groupBy(quasi_identifiers)\n",
    "        valid_groups = [key for key, group in grouped_df if calculate_entropy(group)]\n",
    "        self.df = self.df.filter(F.col(quasi_identifiers[0]).isin([x[0] for x in valid_groups]))"
   ]
  },
  {
   "cell_type": "markdown",
   "id": "b9e719ca-60dc-4068-af15-5f525a453e60",
   "metadata": {},
   "source": [
    "# Initialize Spark Session"
   ]
  },
  {
   "cell_type": "code",
   "execution_count": null,
   "id": "2c00c701-a6e3-4b33-90a6-e915750de23c",
   "metadata": {},
   "outputs": [],
   "source": [
    "spark = SparkSession.builder \\\n",
    "    .appName(\"Anonymization Techniques\") \\\n",
    "    .getOrCreate()"
   ]
  },
  {
   "cell_type": "markdown",
   "id": "f3b2c20c-1793-41c0-9f79-18e83af9e01d",
   "metadata": {},
   "source": [
    "# Sample DataFrame"
   ]
  },
  {
   "cell_type": "code",
   "execution_count": null,
   "id": "89132c44-747c-4d71-8db4-3ee04a15d396",
   "metadata": {},
   "outputs": [],
   "source": [
    "data = [(\"Alice\", 25, \"Engineer\"),\n",
    "        (\"Bob\", 25, \"Doctor\"),\n",
    "        (\"Catherine\", 30, \"Engineer\"),\n",
    "        (\"David\", 30, \"Engineer\"),\n",
    "        (\"Eva\", 35, \"Engineer\"),\n",
    "        (\"Frank\", 35, \"Doctor\")]"
   ]
  },
  {
   "cell_type": "code",
   "execution_count": null,
   "id": "7023d096-2019-42a0-bc15-561b7c1819f3",
   "metadata": {},
   "outputs": [],
   "source": [
    "# Sample DataFrame\n",
    "data = [(\"Alice\", 25, \"Engineer\"),\n",
    "        (\"Bob\", 25, \"Doctor\"),\n",
    "        (\"Catherine\", 30, \"Engineer\"),\n",
    "        (\"David\", 30, \"Engineer\"),\n",
    "        (\"Eva\", 35, \"Engineer\"),\n",
    "        (\"Frank\", 35, \"Doctor\")]\n",
    "\n",
    "df = spark.createDataFrame(data, [\"Name\", \"Age\", \"Occupation\"])\n",
    "\n",
    "# Anonymize Data\n",
    "anonymizer = DataAnonymizer(df)\n",
    "\n",
    "# Apply K-Anonymity\n",
    "anonymizer.k_anonymity([\"Age\"], k=2)\n",
    "\n",
    "# Apply L-Diversity\n",
    "anonymizer.l_diversity([\"Age\"], \"Occupation\", l=2)\n",
    "\n",
    "# Apply T-Closeness (here assuming a threshold of 0.2, modify as needed)\n",
    "anonymizer.t_closeness([\"Age\"], \"Occupation\", t=0.2)\n",
    "\n",
    "# Show the anonymized DataFrame\n",
    "anonymizer.df.show()"
   ]
  },
  {
   "cell_type": "code",
   "execution_count": null,
   "id": "4552d696-0d6c-4a69-9f66-4844095d73df",
   "metadata": {},
   "outputs": [],
   "source": []
  }
 ],
 "metadata": {
  "kernelspec": {
   "display_name": "Python 3 (ipykernel)",
   "language": "python",
   "name": "python3"
  },
  "language_info": {
   "codemirror_mode": {
    "name": "ipython",
    "version": 3
   },
   "file_extension": ".py",
   "mimetype": "text/x-python",
   "name": "python",
   "nbconvert_exporter": "python",
   "pygments_lexer": "ipython3",
   "version": "3.10.9"
  }
 },
 "nbformat": 4,
 "nbformat_minor": 5
}
