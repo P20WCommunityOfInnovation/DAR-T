{
 "cells": [
  {
   "cell_type": "code",
   "execution_count": null,
   "id": "7fffe6b8-d3d1-4e52-bf03-f84913277c47",
   "metadata": {},
   "outputs": [],
   "source": [
    "import pandas as pd\n",
    "import sys"
   ]
  },
  {
   "cell_type": "code",
   "execution_count": null,
   "id": "e4797b06-0881-44cc-a080-9fe4abe7466e",
   "metadata": {},
   "outputs": [],
   "source": [
    "sys.path.append('C:\\\\Users\\\\Drew.Bennett\\\\DisclosureAvoidance\\\\packages')"
   ]
  },
  {
   "cell_type": "code",
   "execution_count": null,
   "id": "248e1a31-9fa6-46ff-984d-c3f8e23793a4",
   "metadata": {},
   "outputs": [],
   "source": [
    "from suppression_check import DataAnonymizer"
   ]
  },
  {
   "cell_type": "code",
   "execution_count": null,
   "id": "e980ec85-55fb-4ffa-8fa9-4bc7e73a4abf",
   "metadata": {},
   "outputs": [],
   "source": [
    "df_data = pd.read_csv(\"SampleDataELLGender.csv\")\n",
    "print(list(df_data))\n",
    "#display(df_data)\n",
    "df_grouped = df_data.groupby(['ChildEntity', 'Subgroup1'])['GraduationCount'].sum().reset_index()\n",
    "\n",
    "anonymizer = DataAnonymizer(df_grouped, sensitive_columns=['Subgroup1'])\n",
    "anonymizer.less_than_threshold_not_zero('GraduationCount')\n",
    "anonymizer.sum_redact('GraduationCount', ['ChildEntity'])\n",
    "df_grouped_suppressed = anonymizer.one_count_redacted('GraduationCount', ['ChildEntity'])\n",
    "df_grouped_suppressed.loc[df_grouped_suppressed['RedactBinary'] == 1, 'RedactedGroup'] = 1\n",
    "df_data = df_data.merge(df_grouped_suppressed, on=['ChildEntity', 'Subgroup1', 'GraduationCount'], how='left')\n",
    "display(df_data)\n",
    "display(df_data.groupby(['ChildEntity', 'Subgroup2'])['GraduationCount'].sum().reset_index())\n",
    "display(df_data.groupby(['ParentEntity', 'Subgroup1'])['GraduationCount'].sum().reset_index())\n",
    "display(df_data.groupby(['ParentEntity', 'Subgroup2'])['GraduationCount'].sum().reset_index())"
   ]
  }
 ],
 "metadata": {
  "kernelspec": {
   "display_name": "Python 3 (ipykernel)",
   "language": "python",
   "name": "python3"
  },
  "language_info": {
   "codemirror_mode": {
    "name": "ipython",
    "version": 3
   },
   "file_extension": ".py",
   "mimetype": "text/x-python",
   "name": "python",
   "nbconvert_exporter": "python",
   "pygments_lexer": "ipython3",
   "version": "3.10.9"
  }
 },
 "nbformat": 4,
 "nbformat_minor": 5
}
