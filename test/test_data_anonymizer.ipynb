{
 "cells": [
  {
   "cell_type": "markdown",
   "id": "66265816-d211-4d84-926f-79a87bd082f0",
   "metadata": {},
   "source": [
    "# Testing Data Anonymization with TestDataAnonymizer\n",
    "This notebook demonstrates how to test the `DataAnonymizer` class using the `TestDataAnonymizer` unittest class. We'll run each test and examine the results."
   ]
  },
  {
   "cell_type": "markdown",
   "id": "352efca8-ba8f-4d6f-94ca-2e0ef11785cf",
   "metadata": {},
   "source": [
    "## Setup\n",
    "First, we need to import the necessary modules and set up our testing environment.\n"
   ]
  },
  {
   "cell_type": "code",
   "execution_count": 1,
   "id": "a4e9961d-4aa9-4ca5-9a44-83f8191bbc36",
   "metadata": {},
   "outputs": [],
   "source": [
    "import unittest\n",
    "import pandas as pd\n",
    "from pandas.testing import assert_frame_equal\n",
    "import sys"
   ]
  },
  {
   "cell_type": "code",
   "execution_count": 2,
   "id": "ba90c17c-74a3-472b-831a-e7f888f270cc",
   "metadata": {},
   "outputs": [],
   "source": [
    "sys.path.append('..\\\\packages')"
   ]
  },
  {
   "cell_type": "code",
   "execution_count": 3,
   "id": "730747d0-c6b2-4744-b89c-b150c6b3de34",
   "metadata": {},
   "outputs": [],
   "source": [
    "sys.path.append('..\\\\test')"
   ]
  },
  {
   "cell_type": "code",
   "execution_count": 4,
   "id": "8be346cc-e061-4d51-ba9c-e4bc48acd26c",
   "metadata": {},
   "outputs": [],
   "source": [
    "from suppression_check import DataAnonymizer\n",
    "from test_data_anonymizer import TestDataAnonymizer  # Assuming TestDataAnonymizer is in a separate file"
   ]
  },
  {
   "cell_type": "code",
   "execution_count": null,
   "id": "f9884418-cf78-449d-87db-c1fc2c3d0ad7",
   "metadata": {},
   "outputs": [],
   "source": [
    "# Create a test suite"
   ]
  },
  {
   "cell_type": "code",
   "execution_count": 5,
   "id": "932c5b4a-daab-4e75-9a2a-6fd6a2fb14a6",
   "metadata": {},
   "outputs": [],
   "source": [
    "test_suite = unittest.TestSuite()"
   ]
  },
  {
   "cell_type": "code",
   "execution_count": null,
   "id": "91bdc63c-41c2-4b54-b886-592369e5fa6f",
   "metadata": {},
   "outputs": [],
   "source": [
    "# Add tests to the test suite"
   ]
  },
  {
   "cell_type": "code",
   "execution_count": 6,
   "id": "8f9ba680-abed-41e7-988f-3ec337122a22",
   "metadata": {},
   "outputs": [],
   "source": [
    "test_loader = unittest.TestLoader()\n",
    "test_suite.addTests(test_loader.loadTestsFromTestCase(TestDataAnonymizer))"
   ]
  },
  {
   "cell_type": "code",
   "execution_count": null,
   "id": "deb7685c-b033-45ea-a1d5-ad19190c5833",
   "metadata": {},
   "outputs": [],
   "source": [
    "# Run the tests"
   ]
  },
  {
   "cell_type": "code",
   "execution_count": 7,
   "id": "690e91ee-c8f2-4813-8ca1-6f89acfdc4e0",
   "metadata": {},
   "outputs": [
    {
     "name": "stderr",
     "output_type": "stream",
     "text": [
      "test_functions_return_dataframe_with_redact_column (test_data_anonymizer.TestDataAnonymizer)\n",
      "Test if 'Redact' column is added to the DataFrame. ... ok\n",
      "test_redact_threshold_matches_expected_output (test_data_anonymizer.TestDataAnonymizer) ... ok\n",
      "test_redact_threshold_redacts_at_least_two_rows_per_sensitive_column (test_data_anonymizer.TestDataAnonymizer)\n",
      "Test if at least two rows per sensitive column are redacted. ... ok\n",
      "\n",
      "----------------------------------------------------------------------\n",
      "Ran 3 tests in 0.072s\n",
      "\n",
      "OK\n"
     ]
    },
    {
     "name": "stdout",
     "output_type": "stream",
     "text": [
      "No organization columns\n",
      "No organization columns\n",
      "No organization columns\n"
     ]
    }
   ],
   "source": [
    "test_runner = unittest.TextTestRunner(verbosity=2)\n",
    "test_results = test_runner.run(test_suite)"
   ]
  },
  {
   "cell_type": "code",
   "execution_count": null,
   "id": "9ae79c28-94aa-4dd9-87d4-26ff7a8bed6b",
   "metadata": {},
   "outputs": [],
   "source": [
    "# Output the results"
   ]
  },
  {
   "cell_type": "code",
   "execution_count": null,
   "id": "f20ca84f-0d37-4592-96c2-6c8ee309db9a",
   "metadata": {},
   "outputs": [],
   "source": [
    "print(test_results)"
   ]
  },
  {
   "cell_type": "code",
   "execution_count": null,
   "id": "da619faa-edef-4ab1-a6e5-64c4195a3b22",
   "metadata": {},
   "outputs": [],
   "source": []
  }
 ],
 "metadata": {
  "kernelspec": {
   "display_name": "Python 3 (ipykernel)",
   "language": "python",
   "name": "python3"
  },
  "language_info": {
   "codemirror_mode": {
    "name": "ipython",
    "version": 3
   },
   "file_extension": ".py",
   "mimetype": "text/x-python",
   "name": "python",
   "nbconvert_exporter": "python",
   "pygments_lexer": "ipython3",
   "version": "3.10.4"
  }
 },
 "nbformat": 4,
 "nbformat_minor": 5
}
