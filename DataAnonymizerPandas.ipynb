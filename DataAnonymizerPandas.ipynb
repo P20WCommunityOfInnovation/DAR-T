{
 "cells": [
  {
   "cell_type": "code",
   "execution_count": null,
   "id": "04a5f208-b336-44c3-bc88-fe7fcf1d8137",
   "metadata": {},
   "outputs": [],
   "source": [
    "import pandas as pd\n",
    "from scipy.stats import entropy\n",
    "import pandas as pd\n",
    "import numpy as np"
   ]
  },
  {
   "cell_type": "code",
   "execution_count": null,
   "id": "6753b6e3-8067-47c5-825b-8ad2669e9cd7",
   "metadata": {},
   "outputs": [],
   "source": [
    "class DataAnonymizer:\n",
    "    \n",
    "    def __init__(self, df):\n",
    "        self.df = df.copy()\n",
    "        \n",
    "    def k_anonymity(self, sum_column, k):\n",
    "        self.df['K_Anonymity_Compliant'] = True\n",
    "        self.df[self.df[sum_column] < k, 'K_Anonymity_Compliant'] = False\n",
    "        \n",
    "        \n",
    "    def l_diversity(self, quasi_identifiers, sensitive_column, l):\n",
    "        self.df['L_Diversity_Compliant_One'] = True\n",
    "        grouped_df = self.df[self.df['K_Anonymity_Compliant'] == True]\n",
    "        .groupby(['Parent_Organization', 'Organization', 'Gender']).size().reset_index(name='counts')\n",
    "        valid_groups = diversity_count[diversity_count['l_diversity'] >= l]\n",
    "        \n",
    "        self.df = pd.merge(self.df, valid_groups[quasi_identifiers], on=quasi_identifiers, how='left', indicator='L_Diversity_Compliant')\n",
    "        self.df['L_Diversity_Compliant'] = self.df['L_Diversity_Compliant'] == 'both'\n",
    "        \n",
    "    def suppress_values(self):\n",
    "        self.df['Suppressed_Child_Count'] = self.df['Child_Count']\n",
    "        \n",
    "        for parent_org in self.df['Parent_Organization'].unique():\n",
    "            subset_df = self.df[self.df['Parent_Organization'] == parent_org]\n",
    "            \n",
    "            mask = (subset_df['Child_Count'] < 11) & (subset_df['Child_Count'] != 0)\n",
    "            subset_df.loc[mask, 'Suppressed_Child_Count'] = np.nan\n",
    "            \n",
    "            self.df.update(subset_df)\n"
   ]
  },
  {
   "cell_type": "markdown",
   "id": "bde83a32-3304-42d8-9379-4cc49e07a996",
   "metadata": {},
   "source": [
    "# Sample DataFrame"
   ]
  },
  {
   "cell_type": "code",
   "execution_count": null,
   "id": "2684373f-e24f-4b48-a0e5-84bfd9f3c6db",
   "metadata": {},
   "outputs": [],
   "source": [
    "# Sample DataFrame with 'Organization', 'Parent_Organization', and 'Gender'\n",
    "data = {\n",
    "    'Parent_Organization': ['Parent1', 'Parent1', 'Parent2', 'Parent2', 'Parent2', 'Parent3'],\n",
    "    'Organization': ['Org1', 'Org2', 'Org3', 'Org4', 'Org5', 'Org6'],\n",
    "    'Gender': ['F', 'M', 'F', 'M', 'F', 'M'],\n",
    "    'Child_Count': [20, 0, 13, 5, 25, 9]\n",
    "}\n",
    "\n",
    "df = pd.DataFrame(data)\n",
    "\n",
    "# Instantiate the anonymizer\n",
    "anonymizer = DataAnonymizer(df)\n",
    "\n",
    "group_sizes = self.df.groupby(['Parent_Organization', 'Organization', 'Gender']).size().reset_index(name='counts')\n",
    "display(group_sizes)\n",
    "valid_groups = group_sizes[group_sizes['counts'] >= k]\n",
    "display(valid_groups)\n",
    "\n",
    "self.df = pd.merge(self.df, valid_groups[quasi_identifiers], on=quasi_identifiers, how='left', indicator='K_Anonymity_Compliant')\n",
    "self.df['K_Anonymity_Compliant'] = self.df['K_Anonymity_Compliant'] == 'both'\n",
    "\n",
    "\n",
    "# Apply K-Anonymity\n",
    "anonymizer.k_anonymity(['Parent_Organization', 'Organization', 'Gender'], k=11)\n",
    "\n",
    "# Apply L-Diversity\n",
    "anonymizer.l_diversity(['Parent_Organization', 'Organization', 'Gender'], 'Child_Count', l=2)\n",
    "\n",
    "# Suppress values based on rules and parent organization\n",
    "anonymizer.suppress_values()\n",
    "\n",
    "print(\"After Anonymization and Suppression:\")\n",
    "print(anonymizer.df)"
   ]
  },
  {
   "cell_type": "code",
   "execution_count": null,
   "id": "f04833bd-2a46-4e4f-80a3-8831b8baa2c6",
   "metadata": {},
   "outputs": [],
   "source": []
  }
 ],
 "metadata": {
  "kernelspec": {
   "display_name": "Python 3 (ipykernel)",
   "language": "python",
   "name": "python3"
  },
  "language_info": {
   "codemirror_mode": {
    "name": "ipython",
    "version": 3
   },
   "file_extension": ".py",
   "mimetype": "text/x-python",
   "name": "python",
   "nbconvert_exporter": "python",
   "pygments_lexer": "ipython3",
   "version": "3.10.9"
  }
 },
 "nbformat": 4,
 "nbformat_minor": 5
}
