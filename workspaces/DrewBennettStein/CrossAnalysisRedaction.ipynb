{
 "cells": [
  {
   "cell_type": "code",
   "execution_count": null,
   "id": "33452118",
   "metadata": {},
   "outputs": [],
   "source": [
    "import pandas as pd\n",
    "import sys\n",
    "pd.set_option('display.max_rows', 100)"
   ]
  },
  {
   "cell_type": "code",
   "execution_count": null,
   "id": "006f8ee9",
   "metadata": {},
   "outputs": [],
   "source": [
    "sys.path.append('..\\\\..\\\\packages')"
   ]
  },
  {
   "cell_type": "code",
   "execution_count": null,
   "id": "8b05a76a",
   "metadata": {},
   "outputs": [],
   "source": [
    "from suppression_check import DataAnonymizer"
   ]
  },
  {
   "cell_type": "code",
   "execution_count": null,
   "id": "6cfe8800-1b7f-45be-a5d2-374650ae4a74",
   "metadata": {},
   "outputs": [],
   "source": [
    "df_data = pd.read_csv(\"..\\\\..\\\\data\\\\GraduationELLGender.csv\")\n",
    "display(df_data)"
   ]
  },
  {
   "cell_type": "code",
   "execution_count": null,
   "id": "80e05426-1f3b-416a-acaf-e0cede1f4168",
   "metadata": {},
   "outputs": [],
   "source": [
    "sensitive = ['Subgroup1', 'Subgroup2']\n",
    "organization = ['ParentEntity', 'ChildEntity']\n",
    "anonymizer = DataAnonymizer(df_data, sensitive_columns=sensitive, organization_columns=organization, frequency = 'GraduationCount')"
   ]
  },
  {
   "cell_type": "code",
   "execution_count": null,
   "id": "8cd696d3",
   "metadata": {},
   "outputs": [],
   "source": [
    "anonymizer.less_than_threshold_not_zero()"
   ]
  },
  {
   "cell_type": "code",
   "execution_count": null,
   "id": "342f65de-2186-4413-a56e-27b85d2f9497",
   "metadata": {},
   "outputs": [],
   "source": [
    "df_redact_threshold = anonymizer.less_than_threshold_not_zero()"
   ]
  },
  {
   "cell_type": "code",
   "execution_count": null,
   "id": "0a79b394",
   "metadata": {},
   "outputs": [],
   "source": [
    "df_grouped = df_data.groupby(['ChildEntity', 'Subgroup1'])['GraduationCount'].sum().reset_index()\n",
    "\n",
    "anonymizer = DataAnonymizer(df_grouped, sensitive_columns=['Subgroup1'])\n",
    "anonymizer.less_than_threshold_not_zero('GraduationCount')\n",
    "anonymizer.sum_redact('GraduationCount', ['ChildEntity'])\n",
    "df_grouped_suppressed = anonymizer.one_count_redacted('GraduationCount', ['ChildEntity'])\n",
    "df_grouped_suppressed.loc[df_grouped_suppressed['RedactBinary'] == 1, 'RedactedGroup'] = 1\n",
    "df_data = df_data.merge(df_grouped_suppressed, on=['ChildEntity', 'Subgroup1', 'GraduationCount'], how='left')\n",
    "display(df_data)\n",
    "display(df_data.groupby(['ChildEntity', 'Subgroup2'])['GraduationCount'].sum().reset_index())\n",
    "display(df_data.groupby(['ParentEntity', 'Subgroup1'])['GraduationCount'].sum().reset_index())\n",
    "display(df_data.groupby(['ParentEntity', 'Subgroup2'])['GraduationCount'].sum().reset_index())"
   ]
  }
 ],
 "metadata": {
  "kernelspec": {
   "display_name": "Python 3 (ipykernel)",
   "language": "python",
   "name": "python3"
  },
  "language_info": {
   "codemirror_mode": {
    "name": "ipython",
    "version": 3
   },
   "file_extension": ".py",
   "mimetype": "text/x-python",
   "name": "python",
   "nbconvert_exporter": "python",
   "pygments_lexer": "ipython3",
   "version": "3.10.9"
  }
 },
 "nbformat": 4,
 "nbformat_minor": 5
}
